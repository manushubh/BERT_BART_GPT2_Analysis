{
 "cells": [
  {
   "cell_type": "code",
   "execution_count": 2,
   "metadata": {},
   "outputs": [
    {
     "name": "stderr",
     "output_type": "stream",
     "text": [
      "[nltk_data] Downloading package stopwords to\n",
      "[nltk_data]     C:\\Users\\Manoj\\AppData\\Roaming\\nltk_data...\n",
      "[nltk_data]   Package stopwords is already up-to-date!\n"
     ]
    }
   ],
   "source": [
    "import rouge\n",
    "import nltk\n",
    "import re\n",
    "nltk.download('stopwords')\n",
    "from nltk.corpus import stopwords \n",
    "from nltk.tokenize import word_tokenize \n"
   ]
  },
  {
   "cell_type": "code",
   "execution_count": 3,
   "metadata": {},
   "outputs": [],
   "source": [
    "def processFile(filename):\n",
    "    f = open(filename,'r')\n",
    "    text=f.read()\n",
    "    return text"
   ]
  },
  {
   "cell_type": "code",
   "execution_count": null,
   "metadata": {},
   "outputs": [],
   "source": []
  },
  {
   "cell_type": "code",
   "execution_count": null,
   "metadata": {},
   "outputs": [],
   "source": []
  },
  {
   "cell_type": "code",
   "execution_count": 13,
   "metadata": {},
   "outputs": [],
   "source": [
    "def process(sentences):\n",
    "    fl=[]\n",
    "    for text in sentences:\n",
    "        sentence_list = re.split(r' *[\\.\\?!][\\'\"\\)\\]]* *', text)\n",
    "        for i in range(0,len(sentence_list)):\n",
    "            sentence_list[i]=sentence_list[i].strip('\\n')\n",
    "        fl.append(sentence_list)\n",
    "    return fl"
   ]
  },
  {
   "cell_type": "code",
   "execution_count": 14,
   "metadata": {},
   "outputs": [],
   "source": [
    "def generate(curr_folder):\n",
    "    # find all files in the sub folder selected\n",
    "    files=[\"t1.txt\",\"t2.txt\",\"t3.txt\"]\n",
    "    sentences = []\n",
    "    for file in files:\n",
    "        sentences.append(processFile(curr_folder + \"/\" + file))\n",
    "            #for text in sentences:\n",
    "            #   print(text,\"\\n\")\n",
    "        new_sentences=process(sentences)\n",
    "        #for text in new_sentences:\n",
    "        #    print(text,\"\\n\")\n",
    "    return new_sentences"
   ]
  },
  {
   "cell_type": "code",
   "execution_count": 15,
   "metadata": {},
   "outputs": [],
   "source": [
    "new_sentences=generate(\"/Users/shreyabanerjee/Summarizer/multiple_docs/news/Topic1\")"
   ]
  },
  {
   "cell_type": "code",
   "execution_count": 16,
   "metadata": {},
   "outputs": [
    {
     "name": "stderr",
     "output_type": "stream",
     "text": [
      "[nltk_data] Downloading package stopwords to\n",
      "[nltk_data]     /Users/shreyabanerjee/nltk_data...\n",
      "[nltk_data]   Package stopwords is already up-to-date!\n"
     ]
    }
   ],
   "source": [
    "nltk.download('stopwords')\n",
    "# Program to measure the similarity between  \n",
    "# two sentences using cosine similarity. \n",
    "from nltk.corpus import stopwords \n",
    "from nltk.tokenize import word_tokenize \n",
    "\n",
    "# tokenization \n",
    "def cosine_similarity(X,Y):\n",
    "    X_list = word_tokenize(X)  \n",
    "    Y_list = word_tokenize(Y) \n",
    "\n",
    "    # sw contains the list of stopwords \n",
    "    sw = stopwords.words('english')  \n",
    "    l1 =[];l2 =[] \n",
    "\n",
    "    # remove stop words from the string \n",
    "    X_set = {w for w in X_list if not w in sw}  \n",
    "    Y_set = {w for w in Y_list if not w in sw} \n",
    "\n",
    "    # form a set containing keywords of both strings  \n",
    "    rvector = X_set.union(Y_set)  \n",
    "    for w in rvector: \n",
    "        if w in X_set: l1.append(1) # create a vector \n",
    "        else: l1.append(0) \n",
    "        if w in Y_set: l2.append(1) \n",
    "        else: l2.append(0) \n",
    "    c = 0\n",
    "\n",
    "    # cosine formula  \n",
    "    for i in range(len(rvector)): \n",
    "            c+= l1[i]*l2[i] \n",
    "    f=float((sum(l1)*sum(l2))**0.5) \n",
    "    if(f!=0):\n",
    "        cosine = c / f\n",
    "    else:\n",
    "        cosine=0\n",
    "    return cosine"
   ]
  },
  {
   "cell_type": "code",
   "execution_count": 17,
   "metadata": {},
   "outputs": [],
   "source": [
    "def jaccard_similarity(str1, str2): \n",
    "    a = set(str1.split()) \n",
    "    b = set(str2.split())\n",
    "    c = a.intersection(b)\n",
    "    d=(len(a) + len(b) - len(c))\n",
    "    if(d==0):\n",
    "        return 0\n",
    "    else:\n",
    "        return float(len(c)) / (len(a) + len(b) - len(c))"
   ]
  },
  {
   "cell_type": "code",
   "execution_count": 18,
   "metadata": {},
   "outputs": [
    {
     "name": "stdout",
     "output_type": "stream",
     "text": [
      "[\"A Bengaluru-based model and makeup artist, who accused Zomato's delivery man of attacking her over alleged delayed service, was booked by the police on Monday\", 'Hitesha Chandranee has been charged with wrongful restraint, assault, intentional insult, and criminal intimidation based on a complaint by the delivery man', \"'An FIR was registered against Hitesha, the woman, who claimed to be attacked by a Zomato delivery man,' a police officer said\", 'According to the officer, Kamaraj had stated that Hitesha had hit him with slippers, accused him of defaming her and hurling abuses at him on March 9', 'Hitesha, in the meanwhile, deleted her video from Twitter that went viral based on which the police had arrested Kamaraj on March 10', 'The model had said in her video that she lodged a complaint with the Zomato customer care asking them to either deliver food free of cost or cancel the order after it was delayed', \"'So guys, my Zomato order was late and I was talking to the customer care executive and meanwhile the delivery person just did this,' said Chandranee, crying and showing her bleeding nose in a selfie video, which was aired by some TV channels\", 'Zomato, which had initially assured Chandranee that it would help her with the police investigation along with assistance on the medical care required, later clarified it was also with Kamaraj extending all possible support', \"'As per protocol, we have temporarily suspended Kamaraj from active deliveries, but are covering his earnings in the interim while there's an active police investigation,' Zomato founder Deepinder Goyal said in a statement posted on Twitter\", 'He has also said his company was bearing the legal expenses of the case', 'PTI'] \n",
      " 11 \n",
      "\n",
      "['Police on Monday booked a case against a software engineer and beauty influencer for allegedly assaulting a Zomato delivery executive when he had gone to deliver food to her flat in Bengaluru’s Electronic City last week', 'The police action against Hitesha Chandranee, 31, followed a counter-complaint by delivery executive Kamaraj', 'Sources said police have booked Hitesha under Indian Penal Code sections for wrongful restraint, assault or criminal force with intent to dishonour person and criminal intimidation', 'The woman had claimed that the food was delivered to her 59 minutes late on March 9 and she was assaulted when she sought to cancel the order', 'Following a complaint filed by Hitesha on March 10, cops registered a case against the delivery executive under IPC sections', 'Soon after the incident, Hitesha posted it on a social-media platform with images of her bleeding nose, which she said was the result of Kamaraj punching her after an argument over delay in delivery', 'Zomato suspended Kamaraj, while Electronic City police arrested him and released him on bail', 'Kamaraj, who had worked with Zomato for three years, countered Hitesha’s allegation, stating she abused him in filthy language and hurled slippers at him', 'He further said she injured herself on her nose from her finger ring in the process of assaulting him', 'He said the roads he took to deliver food were under construction and had over 10 blockades', '“While I apologised, the woman continued to hurl abuses and asked me to carry back the food', 'I was trying to defend myself', 'The injury may have been caused by the woman’s ring,” he had said', 'Zomato founder Deepinder Goyal later said the firm is covering Hitesha’s medical expenses and, at the same time, was providing legal assistance, besides covering his earnings', 'He said Kamaraj had made about 5,000 deliveries for Zomato and had a rating of 4', '75/5 on the platform', 'After his version came out in the public domain, Kamaraj drew a lot of support', 'Bollywood actor Parineeti Chopra tweeted, “Zomato India, please find and publicly report the truth', 'If the gentleman is innocent (and I believe he is), please help us penalise the woman in question', 'This is inhuman, shameful and heart-breaking', 'Please let me know how I can help', ''] \n",
      " 22 \n",
      "\n",
      "['Bengaluru police have registered an FIR against a woman who accused a Zomato delivery executive of assault, based on a complaint by the latter', 'The FIR has been filed in the Electronic City police station against Hitesha Chandranee under sections 341 (wrongful restraint), 355(assault or criminal force), 504 (intentional insult), and 506 (criminal intimidation) of the IPC, News18 reported', 'Chandranee, a model and make-up artist, had on March 9 posted a video on Instagram claiming that Kamaraj had assaulted her for complaining against him over late delivery of food', '\"An FIR was registered against Hitesha, the woman, who claimed to be attacked by a Zomato delivery man,\" a police officer said, as quoted by PTI', 'In the complaint, Kamraj alleged Chandranee had hit him with slippers, accused him of defaming her, and hurling abuses at him, the officer said', \"Zomato founder-CEO Deepinder Goyal said the company is covering Chandranee's medical expenses\", 'He also said Kamraj has been suspended from active deliveries, but the said company is covering his earnings in the interim, and his legal expenses', '\"Right from the get-go, our topmost priority has been to get to the truth', 'Towards that, we are helping both Hitesh and Kamraj (our delivery partner) with all the support they need while the investigation is pending,\" Goyal said in the statement', ''] \n",
      " 10 \n",
      "\n"
     ]
    }
   ],
   "source": [
    "for text in new_sentences:\n",
    "    print(text,\"\\n\",len(text),\"\\n\")"
   ]
  },
  {
   "cell_type": "code",
   "execution_count": 19,
   "metadata": {},
   "outputs": [],
   "source": [
    "def eliminate(fl,model):\n",
    "    length=len(fl)\n",
    "    common_sentences=[]\n",
    "    \n",
    "    #print(\"Length  \",length)\n",
    "    for i in range(0,length):\n",
    "        #print(\"i= \",i)\n",
    "        for j in range(i+1,length):\n",
    "            #print(\"j= \",j)\n",
    "            #print(\"fl[i]  \",fl[i],\"\\nlength= \",len(fl[i]),\"\\n\")\n",
    "            #print(\"fl[j]  \",fl[j],\"\\nlength= \",len(fl[j]),\"\\n\")\n",
    "            for k in range(len(fl[i])):\n",
    "                #print(\"k= \",k)\n",
    "                leng=len(fl[j])\n",
    "                l=0\n",
    "                while(l<length):\n",
    "                    #print(\"l= \",l)\n",
    "                    #print(\"i \",i,\"j \",j,\"k \",k,\"l \",l,\"\\n\")\n",
    "                    #print(\"Comparing \",fl[i][k],\"\\n\",fl[j][l],\"\\n\")\n",
    "                    if(model(fl[i][k],fl[j][l])>0.4):\n",
    "                        #print(\"I AM HERE\")\n",
    "                        #print(\"These sentences are similar  \\n\",fl[i][k],\"\\n\",fl[j][l],\"\\n\")\n",
    "                        fl[j].remove(fl[j][l])\n",
    "                        #print(\"j=\",j)\n",
    "                    l=l+1\n",
    "                    leng=len(fl[j])\n",
    "                \n",
    "    return fl"
   ]
  },
  {
   "cell_type": "code",
   "execution_count": 20,
   "metadata": {},
   "outputs": [
    {
     "name": "stdout",
     "output_type": "stream",
     "text": [
      "These sentences are similar  \n",
      " Hitesha Chandranee has been charged with wrongful restraint, assault, intentional insult, and criminal intimidation based on a complaint by the delivery man \n",
      " Sources said police have booked Hitesha under Indian Penal Code sections for wrongful restraint, assault or criminal force with intent to dishonour person and criminal intimidation \n",
      "\n",
      "These sentences are similar  \n",
      " Hitesha Chandranee has been charged with wrongful restraint, assault, intentional insult, and criminal intimidation based on a complaint by the delivery man \n",
      " The FIR has been filed in the Electronic City police station against Hitesha Chandranee under sections 341 (wrongful restraint), 355(assault or criminal force), 504 (intentional insult), and 506 (criminal intimidation) of the IPC, News18 reported \n",
      "\n",
      "These sentences are similar  \n",
      " 'An FIR was registered against Hitesha, the woman, who claimed to be attacked by a Zomato delivery man,' a police officer said \n",
      " Bengaluru police have registered an FIR against a woman who accused a Zomato delivery executive of assault, based on a complaint by the latter \n",
      "\n",
      "These sentences are similar  \n",
      " 'An FIR was registered against Hitesha, the woman, who claimed to be attacked by a Zomato delivery man,' a police officer said \n",
      " \"An FIR was registered against Hitesha, the woman, who claimed to be attacked by a Zomato delivery man,\" a police officer said, as quoted by PTI \n",
      "\n",
      "These sentences are similar  \n",
      " According to the officer, Kamaraj had stated that Hitesha had hit him with slippers, accused him of defaming her and hurling abuses at him on March 9 \n",
      " In the complaint, Kamraj alleged Chandranee had hit him with slippers, accused him of defaming her, and hurling abuses at him, the officer said \n",
      "\n",
      "These sentences are similar  \n",
      " 'As per protocol, we have temporarily suspended Kamaraj from active deliveries, but are covering his earnings in the interim while there's an active police investigation,' Zomato founder Deepinder Goyal said in a statement posted on Twitter \n",
      " He also said Kamraj has been suspended from active deliveries, but the said company is covering his earnings in the interim, and his legal expenses \n",
      "\n",
      "These sentences are similar  \n",
      " Zomato founder Deepinder Goyal later said the firm is covering Hitesha’s medical expenses and, at the same time, was providing legal assistance, besides covering his earnings \n",
      " Zomato founder-CEO Deepinder Goyal said the company is covering Chandranee's medical expenses \n",
      "\n"
     ]
    },
    {
     "data": {
      "text/plain": [
       "'. A Bengaluru-based model and makeup artist, who accused Zomato\\'s delivery man of attacking her over alleged delayed service, was booked by the police on Monday.Hitesha Chandranee has been charged with wrongful restraint, assault, intentional insult, and criminal intimidation based on a complaint by the delivery man.\\'An FIR was registered against Hitesha, the woman, who claimed to be attacked by a Zomato delivery man,\\' a police officer said.According to the officer, Kamaraj had stated that Hitesha had hit him with slippers, accused him of defaming her and hurling abuses at him on March 9.Hitesha, in the meanwhile, deleted her video from Twitter that went viral based on which the police had arrested Kamaraj on March 10.The model had said in her video that she lodged a complaint with the Zomato customer care asking them to either deliver food free of cost or cancel the order after it was delayed.\\'So guys, my Zomato order was late and I was talking to the customer care executive and meanwhile the delivery person just did this,\\' said Chandranee, crying and showing her bleeding nose in a selfie video, which was aired by some TV channels.Zomato, which had initially assured Chandranee that it would help her with the police investigation along with assistance on the medical care required, later clarified it was also with Kamaraj extending all possible support.\\'As per protocol, we have temporarily suspended Kamaraj from active deliveries, but are covering his earnings in the interim while there\\'s an active police investigation,\\' Zomato founder Deepinder Goyal said in a statement posted on Twitter.He has also said his company was bearing the legal expenses of the case.PTI. Police on Monday booked a case against a software engineer and beauty influencer for allegedly assaulting a Zomato delivery executive when he had gone to deliver food to her flat in Bengaluru’s Electronic City last week.The police action against Hitesha Chandranee, 31, followed a counter-complaint by delivery executive Kamaraj.The woman had claimed that the food was delivered to her 59 minutes late on March 9 and she was assaulted when she sought to cancel the order.Following a complaint filed by Hitesha on March 10, cops registered a case against the delivery executive under IPC sections.Soon after the incident, Hitesha posted it on a social-media platform with images of her bleeding nose, which she said was the result of Kamaraj punching her after an argument over delay in delivery.Zomato suspended Kamaraj, while Electronic City police arrested him and released him on bail.Kamaraj, who had worked with Zomato for three years, countered Hitesha’s allegation, stating she abused him in filthy language and hurled slippers at him.He further said she injured herself on her nose from her finger ring in the process of assaulting him.He said the roads he took to deliver food were under construction and had over 10 blockades.“While I apologised, the woman continued to hurl abuses and asked me to carry back the food.I was trying to defend myself.The injury may have been caused by the woman’s ring,” he had said.Zomato founder Deepinder Goyal later said the firm is covering Hitesha’s medical expenses and, at the same time, was providing legal assistance, besides covering his earnings.He said Kamaraj had made about 5,000 deliveries for Zomato and had a rating of 4.75/5 on the platform.After his version came out in the public domain, Kamaraj drew a lot of support.Bollywood actor Parineeti Chopra tweeted, “Zomato India, please find and publicly report the truth.If the gentleman is innocent (and I believe he is), please help us penalise the woman in question.This is inhuman, shameful and heart-breaking.Please let me know how I can help.. Chandranee, a model and make-up artist, had on March 9 posted a video on Instagram claiming that Kamaraj had assaulted her for complaining against him over late delivery of food.\"Right from the get-go, our topmost priority has been to get to the truth.Towards that, we are helping both Hitesh and Kamraj (our delivery partner) with all the support they need while the investigation is pending,\" Goyal said in the statement.'"
      ]
     },
     "execution_count": 20,
     "metadata": {},
     "output_type": "execute_result"
    }
   ],
   "source": [
    "def get_processed_text(path,similarity_method):\n",
    "    new_sentences=generate(path)\n",
    "    new_sentences_cosine=eliminate(new_sentences,similarity_method)\n",
    "    fl=\"\"\n",
    "    for text in new_sentences_cosine:\n",
    "        #print(text,\"\\n\",len(text),\"\\n\")\n",
    "        final_text=\".\".join(text)\n",
    "        \n",
    "        fl=fl+\". \"+final_text\n",
    "    return fl\n",
    "path=\"/Users/shreyabanerjee/Summarizer/multiple_docs/news/Topic1\";\n",
    "get_processed_text(path,cosine_similarity)"
   ]
  },
  {
   "cell_type": "code",
   "execution_count": 21,
   "metadata": {},
   "outputs": [
    {
     "data": {
      "text/plain": [
       "'. A Bengaluru-based model and makeup artist, who accused Zomato\\'s delivery man of attacking her over alleged delayed service, was booked by the police on Monday.Hitesha Chandranee has been charged with wrongful restraint, assault, intentional insult, and criminal intimidation based on a complaint by the delivery man.\\'An FIR was registered against Hitesha, the woman, who claimed to be attacked by a Zomato delivery man,\\' a police officer said.According to the officer, Kamaraj had stated that Hitesha had hit him with slippers, accused him of defaming her and hurling abuses at him on March 9.Hitesha, in the meanwhile, deleted her video from Twitter that went viral based on which the police had arrested Kamaraj on March 10.The model had said in her video that she lodged a complaint with the Zomato customer care asking them to either deliver food free of cost or cancel the order after it was delayed.\\'So guys, my Zomato order was late and I was talking to the customer care executive and meanwhile the delivery person just did this,\\' said Chandranee, crying and showing her bleeding nose in a selfie video, which was aired by some TV channels.Zomato, which had initially assured Chandranee that it would help her with the police investigation along with assistance on the medical care required, later clarified it was also with Kamaraj extending all possible support.\\'As per protocol, we have temporarily suspended Kamaraj from active deliveries, but are covering his earnings in the interim while there\\'s an active police investigation,\\' Zomato founder Deepinder Goyal said in a statement posted on Twitter.He has also said his company was bearing the legal expenses of the case.PTI. Police on Monday booked a case against a software engineer and beauty influencer for allegedly assaulting a Zomato delivery executive when he had gone to deliver food to her flat in Bengaluru’s Electronic City last week.The police action against Hitesha Chandranee, 31, followed a counter-complaint by delivery executive Kamaraj.Sources said police have booked Hitesha under Indian Penal Code sections for wrongful restraint, assault or criminal force with intent to dishonour person and criminal intimidation.The woman had claimed that the food was delivered to her 59 minutes late on March 9 and she was assaulted when she sought to cancel the order.Following a complaint filed by Hitesha on March 10, cops registered a case against the delivery executive under IPC sections.Soon after the incident, Hitesha posted it on a social-media platform with images of her bleeding nose, which she said was the result of Kamaraj punching her after an argument over delay in delivery.Zomato suspended Kamaraj, while Electronic City police arrested him and released him on bail.Kamaraj, who had worked with Zomato for three years, countered Hitesha’s allegation, stating she abused him in filthy language and hurled slippers at him.He further said she injured herself on her nose from her finger ring in the process of assaulting him.He said the roads he took to deliver food were under construction and had over 10 blockades.“While I apologised, the woman continued to hurl abuses and asked me to carry back the food.I was trying to defend myself.The injury may have been caused by the woman’s ring,” he had said.Zomato founder Deepinder Goyal later said the firm is covering Hitesha’s medical expenses and, at the same time, was providing legal assistance, besides covering his earnings.He said Kamaraj had made about 5,000 deliveries for Zomato and had a rating of 4.75/5 on the platform.After his version came out in the public domain, Kamaraj drew a lot of support.Bollywood actor Parineeti Chopra tweeted, “Zomato India, please find and publicly report the truth.If the gentleman is innocent (and I believe he is), please help us penalise the woman in question.This is inhuman, shameful and heart-breaking.Please let me know how I can help.. Bengaluru police have registered an FIR against a woman who accused a Zomato delivery executive of assault, based on a complaint by the latter.The FIR has been filed in the Electronic City police station against Hitesha Chandranee under sections 341 (wrongful restraint), 355(assault or criminal force), 504 (intentional insult), and 506 (criminal intimidation) of the IPC, News18 reported.Chandranee, a model and make-up artist, had on March 9 posted a video on Instagram claiming that Kamaraj had assaulted her for complaining against him over late delivery of food.\"An FIR was registered against Hitesha, the woman, who claimed to be attacked by a Zomato delivery man,\" a police officer said, as quoted by PTI.In the complaint, Kamraj alleged Chandranee had hit him with slippers, accused him of defaming her, and hurling abuses at him, the officer said.Zomato founder-CEO Deepinder Goyal said the company is covering Chandranee\\'s medical expenses.He also said Kamraj has been suspended from active deliveries, but the said company is covering his earnings in the interim, and his legal expenses.\"Right from the get-go, our topmost priority has been to get to the truth.Towards that, we are helping both Hitesh and Kamraj (our delivery partner) with all the support they need while the investigation is pending,\" Goyal said in the statement.'"
      ]
     },
     "execution_count": 21,
     "metadata": {},
     "output_type": "execute_result"
    }
   ],
   "source": [
    "\n",
    "get_processed_text(path,jaccard_similarity)"
   ]
  },
  {
   "cell_type": "code",
   "execution_count": null,
   "metadata": {},
   "outputs": [],
   "source": []
  },
  {
   "cell_type": "code",
   "execution_count": null,
   "metadata": {},
   "outputs": [],
   "source": []
  }
 ],
 "metadata": {
  "kernelspec": {
   "display_name": "Python 3",
   "language": "python",
   "name": "python3"
  },
  "language_info": {
   "codemirror_mode": {
    "name": "ipython",
    "version": 3
   },
   "file_extension": ".py",
   "mimetype": "text/x-python",
   "name": "python",
   "nbconvert_exporter": "python",
   "pygments_lexer": "ipython3",
   "version": "3.7.6"
  }
 },
 "nbformat": 4,
 "nbformat_minor": 4
}
