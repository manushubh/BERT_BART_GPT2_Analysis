{
 "cells": [
  {
   "cell_type": "code",
   "execution_count": 1,
   "metadata": {},
   "outputs": [],
   "source": [
    "import tensorflow_datasets as tfds\n",
    "import matplotlib.pyplot as plt\n",
    "import numpy as np\n",
    "import tensorflow as tf"
   ]
  },
  {
   "cell_type": "code",
   "execution_count": 2,
   "metadata": {},
   "outputs": [],
   "source": [
    "import rouge\n",
    "import nltk"
   ]
  },
  {
   "cell_type": "code",
   "execution_count": 3,
   "metadata": {},
   "outputs": [],
   "source": [
    "import os\n",
    "#from gtts import gTTS \n",
    "from pathlib import Path\n",
    "import appdirs\n",
    "import gdown\n",
    "import torch\n",
    "import logging\n",
    "from transformers import BartTokenizer, BartForConditionalGeneration, BartConfig\n",
    "from summarizer import Summarizer\n",
    "#from summarizer import TransformerSummarizer"
   ]
  },
  {
   "cell_type": "code",
   "execution_count": 4,
   "metadata": {},
   "outputs": [],
   "source": [
    "def bert(contents):\n",
    "    bert_model = Summarizer()\n",
    "    bert_summary = ''.join(bert_model(contents, min_length=60))\n",
    "    return bert_summary"
   ]
  },
  {
   "cell_type": "code",
   "execution_count": 5,
   "metadata": {},
   "outputs": [],
   "source": [
    "import sklearn.metrics as metric\n",
    "def get_score(all_hypothesis, all_references):\n",
    "    apply_avg = 'Avg'\n",
    "    evaluator = rouge.Rouge(metrics=['rouge-n', 'rouge-l', 'rouge-w'],\n",
    "                               max_n=4,\n",
    "                               limit_length=True,\n",
    "                               length_limit=100,\n",
    "                               length_limit_type='words',\n",
    "                               apply_avg=apply_avg,\n",
    "                               alpha=0.5, # Default F1_score\n",
    "                               weight_factor=1.2,\n",
    "                               stemming=True)\n",
    "    scores = evaluator.get_scores(all_hypothesis, all_references)\n",
    "    #print(scores)\n",
    "    for key,value in scores.items():\n",
    "        print(key.upper()+'\\n')\n",
    "        print(\"F: \"+str(value['f'])+\"  R: \"+str(value['r'])+\"  P: \"+str(value['p'])+\"\\n\")\n",
    "    #print(scores)"
   ]
  },
  {
   "cell_type": "code",
   "execution_count": 6,
   "metadata": {},
   "outputs": [],
   "source": [
    "def get_summaries(model,folder,start,end):\n",
    "    all_hypothesis = []\n",
    "    all_references = []\n",
    "    for i in range(start,end):\n",
    "          print(i)\n",
    "          num=str(i)\n",
    "          if(len(num)==1):\n",
    "                num='0'+'0'+num\n",
    "          elif(len(num)==2):\n",
    "                num='0'+num\n",
    "          t = open(\"/Users/shreyabanerjee/Summarizer/BBC News Summary/News Articles/\"+folder+\"/\"+num+\".txt\", \"r\")\n",
    "          text=t.read()\n",
    "          l= open(\"/Users/shreyabanerjee/Summarizer/BBC News Summary/Summaries/\"+folder+\"/\"+num+\".txt\", \"r\")\n",
    "          label=l.read()\n",
    "          if(label!=''):\n",
    "              summary=model(text)    #replace bart function name with bert or gpt2 for other models\n",
    "              #print(\"Text\\n\",text,'\\n\\nSummary\\n',label,'\\n\\n My Summary\\n',summary)\n",
    "              all_hypothesis.append(summary)\n",
    "              final= open(\"/Users/shreyabanerjee/Summarizer/BBC News Summary/Bert_Summaries/\"+folder+\"/\"+num+\".txt\", \"w\")\n",
    "              final.write(summary)\n",
    "              all_references.append(label)\n",
    "    return all_hypothesis,all_references"
   ]
  },
  {
   "cell_type": "code",
   "execution_count": 7,
   "metadata": {},
   "outputs": [
    {
     "name": "stdout",
     "output_type": "stream",
     "text": [
      "1\n",
      "2\n",
      "3\n",
      "4\n",
      "5\n",
      "6\n",
      "7\n",
      "8\n",
      "9\n",
      "10\n",
      "1\n",
      "2\n",
      "3\n",
      "4\n",
      "5\n",
      "6\n",
      "7\n",
      "8\n",
      "9\n",
      "10\n",
      "1\n",
      "2\n",
      "3\n",
      "4\n",
      "5\n",
      "6\n",
      "7\n",
      "8\n",
      "9\n",
      "10\n",
      "1\n",
      "2\n",
      "3\n",
      "4\n",
      "5\n",
      "6\n",
      "7\n",
      "8\n",
      "9\n",
      "10\n",
      "1\n",
      "2\n",
      "3\n",
      "4\n",
      "5\n",
      "6\n",
      "7\n",
      "8\n",
      "9\n",
      "10\n"
     ]
    }
   ],
   "source": [
    "candidate_bert_business,reference_bert_business=get_summaries(bert,\"business\",1,11)\n",
    "candidate_bert_entertainment,reference_bert_entertainment=get_summaries(bert,\"entertainment\",1,11)\n",
    "candidate_bert_sport,reference_bert_sport=get_summaries(bert,\"sport\",1,11)\n",
    "candidate_bert_politics,reference_bert_politics=get_summaries(bert,\"politics\",1,11)\n",
    "candidate_bert_tech,reference_bert_tech=get_summaries(bert,\"tech\",1,11)"
   ]
  },
  {
   "cell_type": "code",
   "execution_count": 8,
   "metadata": {},
   "outputs": [
    {
     "name": "stdout",
     "output_type": "stream",
     "text": [
      "ROUGE-2\n",
      "\n",
      "F: 0.3692568541264031  R: 0.3167593056634468  P: 0.4542479321058792\n",
      "\n",
      "ROUGE-4\n",
      "\n",
      "F: 0.32496605555889796  R: 0.2779763869882267  P: 0.40205871210207045\n",
      "\n",
      "ROUGE-1\n",
      "\n",
      "F: 0.5226406144901627  R: 0.4517484709324249  P: 0.63603865046018\n",
      "\n",
      "ROUGE-3\n",
      "\n",
      "F: 0.34115878732785054  R: 0.2922646236371601  P: 0.4209073742826506\n",
      "\n",
      "ROUGE-L\n",
      "\n",
      "F: 0.4276743423932962  R: 0.3758789685433297  P: 0.505212023191633\n",
      "\n",
      "ROUGE-W\n",
      "\n",
      "F: 0.16645197530847305  R: 0.10695763416632165  P: 0.3878064458937629\n",
      "\n"
     ]
    }
   ],
   "source": [
    "get_score(candidate_bert_business,reference_bert_business)"
   ]
  },
  {
   "cell_type": "code",
   "execution_count": 9,
   "metadata": {},
   "outputs": [
    {
     "name": "stdout",
     "output_type": "stream",
     "text": [
      "ROUGE-2\n",
      "\n",
      "F: 0.4868675270165969  R: 0.404766677674062  P: 0.636904128156577\n",
      "\n",
      "ROUGE-4\n",
      "\n",
      "F: 0.44475542506568005  R: 0.3685113611509318  P: 0.5876746765909168\n",
      "\n",
      "ROUGE-1\n",
      "\n",
      "F: 0.5804006981966692  R: 0.48289869558028375  P: 0.7565298069660342\n",
      "\n",
      "ROUGE-3\n",
      "\n",
      "F: 0.4636628002592237  R: 0.38479480341767835  P: 0.6095990081503199\n",
      "\n",
      "ROUGE-L\n",
      "\n",
      "F: 0.4929942770332059  R: 0.4163642924995701  P: 0.6222832768313751\n",
      "\n",
      "ROUGE-W\n",
      "\n",
      "F: 0.19992271710591014  R: 0.12560953780637144  P: 0.5157910726882042\n",
      "\n"
     ]
    }
   ],
   "source": [
    "get_score(candidate_bert_entertainment,reference_bert_entertainment)"
   ]
  },
  {
   "cell_type": "code",
   "execution_count": 10,
   "metadata": {},
   "outputs": [
    {
     "name": "stdout",
     "output_type": "stream",
     "text": [
      "ROUGE-2\n",
      "\n",
      "F: 0.3454742635626974  R: 0.2843349181340303  P: 0.4658650136163082\n",
      "\n",
      "ROUGE-4\n",
      "\n",
      "F: 0.2941698208232879  R: 0.23858549133057103  P: 0.4081498382390542\n",
      "\n",
      "ROUGE-1\n",
      "\n",
      "F: 0.4766961148546386  R: 0.4018975170618975  P: 0.6180652846542374\n",
      "\n",
      "ROUGE-3\n",
      "\n",
      "F: 0.30729492407592746  R: 0.24994787916497502  P: 0.42298327795799706\n",
      "\n",
      "ROUGE-L\n",
      "\n",
      "F: 0.41631612507295496  R: 0.3583962198684862  P: 0.5181910248202075\n",
      "\n",
      "ROUGE-W\n",
      "\n",
      "F: 0.16967233695159248  R: 0.1086832560377442  P: 0.42193942963849845\n",
      "\n"
     ]
    }
   ],
   "source": [
    "get_score(candidate_bert_sport,reference_bert_sport)"
   ]
  },
  {
   "cell_type": "code",
   "execution_count": 11,
   "metadata": {},
   "outputs": [
    {
     "name": "stdout",
     "output_type": "stream",
     "text": [
      "ROUGE-2\n",
      "\n",
      "F: 0.3107243050602434  R: 0.2741811252110405  P: 0.36586670899032714\n",
      "\n",
      "ROUGE-4\n",
      "\n",
      "F: 0.2555120900942779  R: 0.22295793034449468  P: 0.30563227829704437\n",
      "\n",
      "ROUGE-1\n",
      "\n",
      "F: 0.47780327611698226  R: 0.431730711636372  P: 0.5450638509432455\n",
      "\n",
      "ROUGE-3\n",
      "\n",
      "F: 0.27035856134248804  R: 0.23662917805159972  P: 0.3219412628182532\n",
      "\n",
      "ROUGE-L\n",
      "\n",
      "F: 0.39025771861498104  R: 0.35803681901551865  P: 0.43451763023882484\n",
      "\n",
      "ROUGE-W\n",
      "\n",
      "F: 0.15048094452141048  R: 0.09914766985514871  P: 0.319712025111039\n",
      "\n"
     ]
    }
   ],
   "source": [
    "get_score(candidate_bert_politics,reference_bert_politics)"
   ]
  },
  {
   "cell_type": "code",
   "execution_count": 13,
   "metadata": {},
   "outputs": [
    {
     "name": "stdout",
     "output_type": "stream",
     "text": [
      "ROUGE-2\n",
      "\n",
      "F: 0.32254987298906956  R: 0.2884677270087449  P: 0.38261553530769743\n",
      "\n",
      "ROUGE-4\n",
      "\n",
      "F: 0.26569766235848385  R: 0.2354946514173605  P: 0.31952973224026093\n",
      "\n",
      "ROUGE-1\n",
      "\n",
      "F: 0.5090372042914167  R: 0.4661083038066557  P: 0.5825531307672731\n",
      "\n",
      "ROUGE-3\n",
      "\n",
      "F: 0.2847028268173629  R: 0.25304377230105385  P: 0.3408151926489608\n",
      "\n",
      "ROUGE-L\n",
      "\n",
      "F: 0.42338054190432306  R: 0.389944265879712  P: 0.47505262772374424\n",
      "\n",
      "ROUGE-W\n",
      "\n",
      "F: 0.1649775221596996  R: 0.10910772468256871  P: 0.3565147175838968\n",
      "\n"
     ]
    }
   ],
   "source": [
    "get_score(candidate_bert_tech,reference_bert_tech)"
   ]
  },
  {
   "cell_type": "code",
   "execution_count": null,
   "metadata": {},
   "outputs": [],
   "source": []
  }
 ],
 "metadata": {
  "kernelspec": {
   "display_name": "Python 3",
   "language": "python",
   "name": "python3"
  },
  "language_info": {
   "codemirror_mode": {
    "name": "ipython",
    "version": 3
   },
   "file_extension": ".py",
   "mimetype": "text/x-python",
   "name": "python",
   "nbconvert_exporter": "python",
   "pygments_lexer": "ipython3",
   "version": "3.8.5"
  }
 },
 "nbformat": 4,
 "nbformat_minor": 4
}
