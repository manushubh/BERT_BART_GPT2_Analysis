{
 "cells": [
  {
   "cell_type": "code",
   "execution_count": 1,
   "metadata": {},
   "outputs": [],
   "source": [
    "from ibm_watson import SpeechToTextV1\n",
    "from ibm_watson.websocket import RecognizeCallback, AudioSource \n",
    "from ibm_cloud_sdk_core.authenticators import IAMAuthenticator"
   ]
  },
  {
   "cell_type": "code",
   "execution_count": 2,
   "metadata": {},
   "outputs": [],
   "source": [
    "def get_text(path):\n",
    "    apikey = 'dGZbJx7PwRfIvVQrD7G4p0uOgDfKfypPLZNz0nTMd2Xd'\n",
    "    url = 'https://api.eu-gb.speech-to-text.watson.cloud.ibm.com/instances/d747921d-e07c-49f6-8c9a-20a4de556ac9'\n",
    "    authenticator = IAMAuthenticator(apikey)\n",
    "    stt = SpeechToTextV1(authenticator=authenticator)\n",
    "    stt.set_service_url(url)\n",
    "    with open(path, 'rb') as f:\n",
    "        res = stt.recognize(audio=f, content_type='audio/mp3', model='en-AU_NarrowbandModel', continuous=True).get_result()\n",
    "    txt=[]\n",
    "    for i in range(len(res['results'])):\n",
    "        text = res['results'][i]['alternatives'][0]['transcript']\n",
    "        txt.append(text)\n",
    "        for i in txt:\n",
    "            text=text+\".\"+i\n",
    "    return text"
   ]
  },
  {
   "cell_type": "code",
   "execution_count": 4,
   "metadata": {},
   "outputs": [],
   "source": [
    "for i in range(1,4):\n",
    "    text=get_text(\"/Users/shreyabanerjee/Summarizer/Audio/Input/audio\"+str(i)+\".mp3\")\n",
    "    final= open(\"/Users/shreyabanerjee/Summarizer/Audio/Text/output\"+str(i)+\".txt\", \"w\")\n",
    "    final.write(text)"
   ]
  },
  {
   "cell_type": "code",
   "execution_count": 5,
   "metadata": {},
   "outputs": [],
   "source": [
    "for i in range(5,8):\n",
    "    text=get_text(\"/Users/shreyabanerjee/Summarizer/Audio/Input/audio\"+str(i)+\".mp3\")\n",
    "    final= open(\"/Users/shreyabanerjee/Summarizer/Audio/Text/output\"+str(i)+\".txt\", \"w\")\n",
    "    final.write(text)"
   ]
  },
  {
   "cell_type": "code",
   "execution_count": null,
   "metadata": {},
   "outputs": [],
   "source": []
  }
 ],
 "metadata": {
  "kernelspec": {
   "display_name": "Python 3",
   "language": "python",
   "name": "python3"
  },
  "language_info": {
   "codemirror_mode": {
    "name": "ipython",
    "version": 3
   },
   "file_extension": ".py",
   "mimetype": "text/x-python",
   "name": "python",
   "nbconvert_exporter": "python",
   "pygments_lexer": "ipython3",
   "version": "3.8.5"
  }
 },
 "nbformat": 4,
 "nbformat_minor": 4
}
