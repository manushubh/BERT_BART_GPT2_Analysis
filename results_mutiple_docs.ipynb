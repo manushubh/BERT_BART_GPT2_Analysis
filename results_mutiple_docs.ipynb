{
 "cells": [
  {
   "cell_type": "code",
   "execution_count": 1,
   "metadata": {},
   "outputs": [],
   "source": [
    "from ipynb.fs.defs.bbc_gpt2_all import gpt2\n",
    "from ipynb.fs.defs.bbc_bert1_all import bert\n",
    "from ipynb.fs.defs.bbc_bart1_all import bart\n",
    "from ipynb.fs.defs.multiple import cosine_similarity\n",
    "from ipynb.fs.defs.multiple import jaccard_similarity\n",
    "from ipynb.fs.defs.multiple import get_processed_text\n",
    "from ipynb.fs.defs.speech_to_text import get_text"
   ]
  },
  {
   "cell_type": "code",
   "execution_count": 2,
   "metadata": {},
   "outputs": [],
   "source": [
    "import rouge"
   ]
  },
  {
   "cell_type": "code",
   "execution_count": 3,
   "metadata": {},
   "outputs": [],
   "source": [
    "import sklearn.metrics as metric\n",
    "def get_score(all_hypothesis, all_references):\n",
    "    apply_avg = 'Avg'\n",
    "    evaluator = rouge.Rouge(metrics=['rouge-n', 'rouge-l', 'rouge-w'],\n",
    "                               max_n=4,\n",
    "                               limit_length=True,\n",
    "                               length_limit=100,\n",
    "                               length_limit_type='words',\n",
    "                               apply_avg=apply_avg,\n",
    "                               alpha=0.5, # Default F1_score\n",
    "                               weight_factor=1.2,\n",
    "                               stemming=True)\n",
    "    scores = evaluator.get_scores(all_hypothesis, all_references)\n",
    "    for key,value in scores.items():\n",
    "        print(key.upper()+'\\n')\n",
    "        print(\"F: \"+str(value['f'])+\"  R: \"+str(value['r'])+\"  P: \"+str(value['p'])+\"\\n\")\n",
    "    return scores"
   ]
  },
  {
   "cell_type": "code",
   "execution_count": 4,
   "metadata": {},
   "outputs": [],
   "source": [
    "def evaluate_models():\n",
    "    my_summaries=[]\n",
    "    bert_summaries=[]\n",
    "    bart_summaries=[]\n",
    "    gpt2_summaries=[]\n",
    "    for i in range(1,4):\n",
    "        \n",
    "        m1 = open(\"/Users/shreyabanerjee/Summarizer/multiple_docs/human_written_summary/\"+str(i)+str(i)+\".txt\",\"r\")\n",
    "        summary=m1.read()\n",
    "        my_summaries.append(summary)\n",
    "        print(\"\\nHuman written summary \\n\",summary)\n",
    "        \n",
    "        path=\"/Users/shreyabanerjee/Summarizer/multiple_docs/news/Topic\"+str(i)\n",
    "        \n",
    "        text=get_processed_text(path,cosine_similarity)\n",
    "        \n",
    "        print(\"\\nSummarizing articles from Topic \"+str(i)+\" using BERT model\\n\")\n",
    "        s1=bert(text)\n",
    "        bert_summaries.append(s1)\n",
    "        print(\"BERT summary\\n\",s1)\n",
    "        #print(\"Score for BERT summary\",get_score(bert_summary,my_summary))\n",
    "        \n",
    "        print(\"\\nSummarizing articles from Topic \"+str(i)+\" using BART model\\n\")\n",
    "        s2=bart(text)\n",
    "        bart_summaries.append(s2)\n",
    "        print(\"BART summary\\n\",s2)\n",
    "        #print(\"Score for BART summary\",get_score(bart_summary,my_summary)) \n",
    "        \n",
    "        print(\"\\nSummarizing articles from Topic \"+str(i)+\" using GPT2 model\\n\")\n",
    "        s3=gpt2(text)\n",
    "        gpt2_summaries.append(s3)\n",
    "        print(\"GPT2 summary\\n\",s3)\n",
    "        #print(\"Score for GPT2 summary\",get_score(gpt2_summary,my_summary)) \n",
    "        \n",
    "    print(\"Score for BERT summary\",get_score(bert_summaries,my_summaries))\n",
    "    print(\"Score for BART summary\",get_score(bart_summaries,my_summaries)) \n",
    "    print(\"Score for GPT2 summary\",get_score(gpt2_summaries,my_summaries)) "
   ]
  },
  {
   "cell_type": "code",
   "execution_count": 6,
   "metadata": {},
   "outputs": [
    {
     "name": "stdout",
     "output_type": "stream",
     "text": [
      "\n",
      "Human written summary \n",
      " A Bengaluru based model and makeup artist had accused Zomato delivery guy of attacking her for his service was booked by the police on Monday.An FIR was also registered againast Hitesha Chandranee  under a number of sections namely 341 (wrongful restraint), 355(assault or criminal force), 504 (intentional insult), and 506 (criminal intimidation) of the IPC as put out by News18.The Electronic City police arrested him and released him on bail.Kamaraj, who worked with Zomato for three years confronted Hitesha’s allegation,that she abused him in filthy language and threw slippers at him. He also claimed that she injured herself on her nose from her finger ring in the process of assaulting him and she posted her bleeding node video on Twitter.The roads he took to deliver food were under construction and had over 10 blockades.Kamraj said after he apologised for the late delivery,the woman did not stop to abuse him and asked him to take the food back.The model said in her video that she had filed a complaint with zomato executive to deliver the food at no cost or cancel it.Resonding the incident ,Zomato founder Deepinder Goyal said they had suspended the delivery boy and it also stated that the company was paying for all the legal expenses and medical expenses of hiteesha.The company's utmost priority has been to get the truth out and they are helping both Hitesha and Kamraj with all support they need till the investigation is completed.\n",
      "\n",
      "Summarizing articles from Topic 1 using BERT model\n",
      "\n",
      "BERT summary\n",
      " A Bengaluru-based model and makeup artist, who accused Zomato's delivery man of attacking her over alleged delayed service, was booked by the police on Monday. He further said she injured herself on her nose from her finger ring in the process of assaulting him. The injury may have been caused by the woman’s ring,” he had said. Zomato founder Deepinder Goyal later said the firm is covering Hitesha’s medical expenses and, at the same time, was providing legal assistance, besides covering his earnings. Please let me know how I can help.. Chandranee, a model and make-up artist, had on March 9 posted a video on Instagram claiming that Kamaraj had assaulted her for complaining against him over late delivery of food. \"Right from the get-go, our topmost priority has been to get to the truth.\n",
      "\n",
      "Summarizing articles from Topic 1 using BART model\n",
      "\n",
      "BART summary\n",
      " Hitesha Chandranee has been charged with wrongful restraint, assault, intentional insult, and criminal intimidation based on a complaint by the delivery man. The model had claimed that the food was delivered to her 59 minutes late on March 9 and she was assaulted when she sought to cancel the order. Zomato founder Deepinder Goyal later said the firm is covering Hitesha’s medical expenses and, at the same time, was providing legal assistance, besides covering his earnings. After his version came out in the public domain, Kamaraj drew a lot of support.\n",
      "\n",
      "Summarizing articles from Topic 1 using GPT2 model\n",
      "\n"
     ]
    },
    {
     "name": "stderr",
     "output_type": "stream",
     "text": [
      "Some weights of GPT2Model were not initialized from the model checkpoint at gpt2-medium and are newly initialized: ['h.0.attn.masked_bias', 'h.1.attn.masked_bias', 'h.2.attn.masked_bias', 'h.3.attn.masked_bias', 'h.4.attn.masked_bias', 'h.5.attn.masked_bias', 'h.6.attn.masked_bias', 'h.7.attn.masked_bias', 'h.8.attn.masked_bias', 'h.9.attn.masked_bias', 'h.10.attn.masked_bias', 'h.11.attn.masked_bias', 'h.12.attn.masked_bias', 'h.13.attn.masked_bias', 'h.14.attn.masked_bias', 'h.15.attn.masked_bias', 'h.16.attn.masked_bias', 'h.17.attn.masked_bias', 'h.18.attn.masked_bias', 'h.19.attn.masked_bias', 'h.20.attn.masked_bias', 'h.21.attn.masked_bias', 'h.22.attn.masked_bias', 'h.23.attn.masked_bias']\n",
      "You should probably TRAIN this model on a down-stream task to be able to use it for predictions and inference.\n"
     ]
    },
    {
     "name": "stdout",
     "output_type": "stream",
     "text": [
      "GPT2 summary\n",
      " A Bengaluru-based model and makeup artist, who accused Zomato's delivery man of attacking her over alleged delayed service, was booked by the police on Monday. Kamaraj, who had worked with Zomato for three years, countered Hitesha’s allegation, stating she abused him in filthy language and hurled slippers at him. He further said she injured herself on her nose from her finger ring in the process of assaulting him. “While I apologised, the woman continued to hurl abuses and asked me to carry back the food. This is inhuman, shameful and heart-breaking.\n",
      "\n",
      "Human written summary \n",
      " Ariz Khan was convicted for murder of Delhi Police Inspector Mohan Chand Sharma in 2008 Batla House encounter between the police and alleged terrorists in Jamia Nagar in south Delhi following serial bomb blasts in the national capital in which 39 people died and 159 were injured.The additional sessions judge Sandepp Yadav imposed death penalty on Ariz Khan,one of the convicts after considering the nature of crime and circumstances. The encounter between Delhi Police officer and Mujahideen members in flat at South Delhi led to death of Inspector along with 2 others who had injuries. Ariz Khan was also slapped with fine of 11 lakh  rupees and 10 among that to be given to family of deceased. Judge also said that in a 22 page verdict M S Khan opposed the capital punishment saying it was not premediated but deadly weapons like AK47,2 pistols which was retrieved was enough to conclude that they were planning for some terrorist and anti social activities.The court had said on March 8 that it was \"duly proved that Ariz Khan and his associates caused murder of police official and fired gunshot on the police official\". His appeal against the verdict has been pending in the high court. Ariz Khan had fled from the spot and was declared proclaimed offender. He was arrested on February 14, 2018, and faced the trial.The case will then go to Delhi High Court for confirmation of punishment.\n",
      "\n",
      "Summarizing articles from Topic 2 using BERT model\n",
      "\n",
      "BERT summary\n",
      " A Delhi court Monday awarded death penalty to Ariz Khan for the murder of police inspector Mohan Chand Sharma in the 2008 Batla House encounter case. Inspector Sharma of the special cell was killed during the 2008 Batla House encounter in Jamia Nagar in south Delhi. The trial court had sentenced Indian Mujahideen terrorist Shahzad Ahmed in July 2013 to life imprisonment in connection with the case. His appeal against the verdict has been pending in the high court. Ariz Khan had fled from the spot and was declared proclaimed offender. He added that widespread concerns were raised after the incident regarding the safety of police officers and it instilled fear in the minds of the common people.dvocate M S Khan, appearing for Ariz, opposed the death penalty and said the incident was not premeditated.\n",
      "\n",
      "Summarizing articles from Topic 2 using BART model\n",
      "\n",
      "BART summary\n",
      " A Delhi court awarded death penalty to Ariz Khan for the murder of police inspector Mohan Chand Sharma in the 2008 Batla House encounter case. Police sought death penalty for Ariz, allegedly associated with the terror outfit Indian Mujahideen, saying it was not just any killing but a murder of a law enforcement officer who was a defender of justice. Additional Sessions Judge Sandeep Yadav also imposed a total fine of Rs 11 lakh against Ariz in the case. The court said Rs 10 lakh should be immediately released to the family members of Sharma. Ariz’s lawyer M S Khan opposed capital punishment saying the incident was not premeditated.\n",
      "\n",
      "Summarizing articles from Topic 2 using GPT2 model\n",
      "\n"
     ]
    },
    {
     "name": "stderr",
     "output_type": "stream",
     "text": [
      "Some weights of GPT2Model were not initialized from the model checkpoint at gpt2-medium and are newly initialized: ['h.0.attn.masked_bias', 'h.1.attn.masked_bias', 'h.2.attn.masked_bias', 'h.3.attn.masked_bias', 'h.4.attn.masked_bias', 'h.5.attn.masked_bias', 'h.6.attn.masked_bias', 'h.7.attn.masked_bias', 'h.8.attn.masked_bias', 'h.9.attn.masked_bias', 'h.10.attn.masked_bias', 'h.11.attn.masked_bias', 'h.12.attn.masked_bias', 'h.13.attn.masked_bias', 'h.14.attn.masked_bias', 'h.15.attn.masked_bias', 'h.16.attn.masked_bias', 'h.17.attn.masked_bias', 'h.18.attn.masked_bias', 'h.19.attn.masked_bias', 'h.20.attn.masked_bias', 'h.21.attn.masked_bias', 'h.22.attn.masked_bias', 'h.23.attn.masked_bias']\n",
      "You should probably TRAIN this model on a down-stream task to be able to use it for predictions and inference.\n"
     ]
    },
    {
     "name": "stdout",
     "output_type": "stream",
     "text": [
      "GPT2 summary\n",
      " A Delhi court Monday awarded death penalty to Ariz Khan for the murder of police inspector Mohan Chand Sharma in the 2008 Batla House encounter case. The trial court had sentenced Indian Mujahideen terrorist Shahzad Ahmed in July 2013 to life imprisonment in connection with the case. Ariz Khan had fled from the spot and was declared proclaimed offender. Hence, I am referring the matter to Delhi Legal Services Authority for award of additional compensation,” the judge further said. “Ariz along with others was carrying deadly weapons which clearly suggests that they were ready to kill anybody in any eventuality. He added that widespread concerns were raised after the incident regarding the safety of police officers and it instilled fear in the minds of the common people.dvocate M S Khan, appearing for Ariz, opposed the death penalty and said the incident was not premeditated.\n",
      "\n",
      "Human written summary \n",
      " Europe is experiencing heat wave and draughts in last seven years,which is part of extreme weather related events in region for over 2000 yrs.The researchers at Czech Globe Centre with these ill effects like early deaths ,crop destruction and forest fires ,are a threat to agriculture and forestry .These impacts are expected to increase the intensity in coming decades.A 27000 growth rings from 147 oak trees has been analysed and published in a journal.For the last century, researchers referred to living oaks, along with timber from old buildings.For middle ages scientists also used oak flourishing in river deposits and wood in Roman period on which they determined temperatures from wood density and width.On checking for water available to trees they determined timeline and intensity of draughts. Turns out, what Europe experienced in the last few years is worse than what happened in the last 2,000 years.An International team led by cambridge's Department off Geography, studied the chemical fingerprints on European Oak trees to reconstruct Summer Climate over 2100 years spanning from 75BC to 2018.Büntgen  particularly enable to decode the complete pic of past draught variations, which helped them for functioning of ecosystem and societies.Climate change is not getting drier everywhere, some place can be wetter or colder to some extreme conditions which may be devastating for agriculture,ecosystem or whole. the tweet shared by U.K. Green Party also stated that if we dont reduce carbon emissions it will get worse.If trees don’t get enough water, they become more susceptible to pests, disease, and fires. The study's authors warned that worsening droughts threaten trees.\n",
      "\n",
      "Summarizing articles from Topic 3 using BERT model\n",
      "\n",
      "BERT summary\n",
      " Heatwaves and droughts that have plagued Europe in the last seven years constitute the most extreme weather-related events in the region for over 2,000 years, a research posits. The study was undertaken by researchers at the CzechGlobe centre, and referred to the sharp rise as particularly scary for agriculture and forestry. \"Our results show that what we have experienced over the past five summers is extraordinary for central Europe, in terms of how dry it has been consecutively,\" dendrochronology specialist and lead author Professor Ulf Büntgen of Cambridge's Department of Geography said in a statement. Büntgen and the team of international researchers linked the recent droughts to the climate crisis, including its impacts on the jet stream. \"Climate change does not mean that it will get drier everywhere: In 2015, severe drought and heat waves spread across Europe causing agricultural output to decline, wildfires to intensify, sources of freshwater to diminish, and hundreds of premature deaths. Some places may get wetter or colder, but extreme conditions will become more frequent, which could be devastating for agriculture, ecosystems, and societies as a whole,\" Büntgen said. If trees don’t get enough water, they become more susceptible to pests, disease, and fires, and struggle to grow, a phenomena that is well underway in Europe. \"Unprecedented forest dieback across much of central Europe corroborates our results.\n",
      "\n",
      "Summarizing articles from Topic 3 using BART model\n",
      "\n",
      "BART summary\n",
      " Researchers analysed 27,000 growth rings from 147 European oak trees. The study found that summer climate in Europe has been drying over the last two millennia. Scientists believe that climate change driven changes caused circulation of air over the continent to change. With these changes, heatwaves and droughts will become more common in the future. The findings were published Monday in the journal Nature Geoscience. The U.K.Green Party shared The Guardian's reporting on the new study with a tweet declaring, \"Climate change is here. If we don't cut carbon emissions, it will get worse. Let's fight this while it's still fixable.\" The study was undertaken by researchers at the CzechGlobe centre, and referred to the sharp rise as particularly scary for agriculture and forestry. The heatwaves have had a series of ill-effects in the region - ranging from thousands of early deaths, destruction of crops, and the increasingly common sight of forest fires.\n",
      "\n",
      "Summarizing articles from Topic 3 using GPT2 model\n",
      "\n"
     ]
    },
    {
     "name": "stderr",
     "output_type": "stream",
     "text": [
      "Some weights of GPT2Model were not initialized from the model checkpoint at gpt2-medium and are newly initialized: ['h.0.attn.masked_bias', 'h.1.attn.masked_bias', 'h.2.attn.masked_bias', 'h.3.attn.masked_bias', 'h.4.attn.masked_bias', 'h.5.attn.masked_bias', 'h.6.attn.masked_bias', 'h.7.attn.masked_bias', 'h.8.attn.masked_bias', 'h.9.attn.masked_bias', 'h.10.attn.masked_bias', 'h.11.attn.masked_bias', 'h.12.attn.masked_bias', 'h.13.attn.masked_bias', 'h.14.attn.masked_bias', 'h.15.attn.masked_bias', 'h.16.attn.masked_bias', 'h.17.attn.masked_bias', 'h.18.attn.masked_bias', 'h.19.attn.masked_bias', 'h.20.attn.masked_bias', 'h.21.attn.masked_bias', 'h.22.attn.masked_bias', 'h.23.attn.masked_bias']\n",
      "You should probably TRAIN this model on a down-stream task to be able to use it for predictions and inference.\n"
     ]
    },
    {
     "name": "stdout",
     "output_type": "stream",
     "text": [
      "GPT2 summary\n",
      " Heatwaves and droughts that have plagued Europe in the last seven years constitute the most extreme weather-related events in the region for over 2,000 years, a research posits. To ascertain this, the researchers analysed tree rings dating back to Roman rings, but attributing the extreme changes to global warming. The study was published in the journal nature Geoscience and analysed 27,000 growth rings from 147 oak trees. Based on this, they determined temperatures from wood density and width. The reconstruction showed an overall drying trend. But the samples showed that the droughts from 2015-2018 were \"unprecedented\" over the massive time span. We're all aware of the cluster of exceptionally hot and dry summers we've had over the past few years, but we needed precise reconstructions of historical conditions to see how these recent extremes compare to previous years,\" said Ulf Büntgen, professor in Cambridge's Department of Geography and a lead author of the report, in a statement. As ice sheets and glaciers melt in Greenland and the Arctic, for example, huge amounts of cold air and water are being poured into the atmosphere, destabilizing the Gulf Stream over the Atlantic Ocean, according to the New York Times. Climate change does not mean that it will get drier everywhere:\n",
      "ROUGE-1\n",
      "\n",
      "F: 0.4370587363407972  R: 0.4347902683085813  P: 0.43936507936507935\n",
      "\n",
      "ROUGE-4\n",
      "\n",
      "F: 0.06611782924551934  R: 0.06570367678306  P: 0.06653864294858837\n",
      "\n",
      "ROUGE-2\n",
      "\n",
      "F: 0.18158569500674768  R: 0.18062446354525563  P: 0.18256280756280754\n",
      "\n",
      "ROUGE-3\n",
      "\n",
      "F: 0.10139668814215036  R: 0.10082773213841174  P: 0.10197477049072057\n",
      "\n",
      "ROUGE-L\n",
      "\n",
      "F: 0.3652686929883495  R: 0.36376404838575677  P: 0.3667941476716126\n",
      "\n",
      "ROUGE-W\n",
      "\n",
      "F: 0.11797640989212875  R: 0.08204262303527395  P: 0.2099238728813199\n",
      "\n",
      "Score for BERT summary {'rouge-1': {'f': 0.4370587363407972, 'p': 0.43936507936507935, 'r': 0.4347902683085813}, 'rouge-4': {'f': 0.06611782924551934, 'p': 0.06653864294858837, 'r': 0.06570367678306}, 'rouge-2': {'f': 0.18158569500674768, 'p': 0.18256280756280754, 'r': 0.18062446354525563}, 'rouge-3': {'f': 0.10139668814215036, 'p': 0.10197477049072057, 'r': 0.10082773213841174}, 'rouge-l': {'f': 0.3652686929883495, 'p': 0.3667941476716126, 'r': 0.36376404838575677}, 'rouge-w': {'f': 0.11797640989212875, 'p': 0.2099238728813199, 'r': 0.08204262303527395}}\n",
      "ROUGE-1\n",
      "\n",
      "F: 0.39002222866894304  R: 0.38103165794619737  P: 0.4004245101470732\n",
      "\n",
      "ROUGE-4\n",
      "\n",
      "F: 0.01677262497330508  R: 0.01673598732422262  P: 0.016810570381998954\n",
      "\n",
      "ROUGE-2\n",
      "\n",
      "F: 0.09586760077165195  R: 0.09403734329476904  P: 0.09798327458704818\n",
      "\n",
      "ROUGE-3\n",
      "\n",
      "F: 0.033297268791751516  R: 0.03301095344784665  P: 0.03362193362193362\n",
      "\n",
      "ROUGE-L\n",
      "\n",
      "F: 0.2666069784816476  R: 0.26214701802107193  P: 0.2716409204354884\n",
      "\n",
      "ROUGE-W\n",
      "\n",
      "F: 0.08262993053286746  R: 0.057064564389078566  P: 0.15017053992232504\n",
      "\n",
      "Score for BART summary {'rouge-1': {'f': 0.39002222866894304, 'p': 0.4004245101470732, 'r': 0.38103165794619737}, 'rouge-4': {'f': 0.01677262497330508, 'p': 0.016810570381998954, 'r': 0.01673598732422262}, 'rouge-2': {'f': 0.09586760077165195, 'p': 0.09798327458704818, 'r': 0.09403734329476904}, 'rouge-3': {'f': 0.033297268791751516, 'p': 0.03362193362193362, 'r': 0.03301095344784665}, 'rouge-l': {'f': 0.2666069784816476, 'p': 0.2716409204354884, 'r': 0.26214701802107193}, 'rouge-w': {'f': 0.08262993053286746, 'p': 0.15017053992232504, 'r': 0.057064564389078566}}\n",
      "ROUGE-1\n",
      "\n",
      "F: 0.45876527951302587  R: 0.4470623469513592  P: 0.47161943319838057\n",
      "\n",
      "ROUGE-4\n",
      "\n",
      "F: 0.09498306838208315  R: 0.09129655588821779  P: 0.09908793434251538\n",
      "\n",
      "ROUGE-2\n",
      "\n",
      "F: 0.22214955615436283  R: 0.214946989204415  P: 0.23012365617199326\n",
      "\n",
      "ROUGE-3\n",
      "\n",
      "F: 0.14084087126058156  R: 0.13566467513069455  P: 0.1465941215195756\n",
      "\n",
      "ROUGE-L\n",
      "\n",
      "F: 0.4159145823307881  R: 0.4065955124898584  P: 0.42600536311826787\n",
      "\n",
      "ROUGE-W\n",
      "\n",
      "F: 0.13704175913454145  R: 0.09407440681871691  P: 0.2527090862389321\n",
      "\n",
      "Score for GPT2 summary {'rouge-1': {'f': 0.45876527951302587, 'p': 0.47161943319838057, 'r': 0.4470623469513592}, 'rouge-4': {'f': 0.09498306838208315, 'p': 0.09908793434251538, 'r': 0.09129655588821779}, 'rouge-2': {'f': 0.22214955615436283, 'p': 0.23012365617199326, 'r': 0.214946989204415}, 'rouge-3': {'f': 0.14084087126058156, 'p': 0.1465941215195756, 'r': 0.13566467513069455}, 'rouge-l': {'f': 0.4159145823307881, 'p': 0.42600536311826787, 'r': 0.4065955124898584}, 'rouge-w': {'f': 0.13704175913454145, 'p': 0.2527090862389321, 'r': 0.09407440681871691}}\n"
     ]
    }
   ],
   "source": [
    "evaluate_models()"
   ]
  },
  {
   "cell_type": "code",
   "execution_count": null,
   "metadata": {},
   "outputs": [],
   "source": []
  },
  {
   "cell_type": "code",
   "execution_count": null,
   "metadata": {},
   "outputs": [],
   "source": []
  },
  {
   "cell_type": "code",
   "execution_count": null,
   "metadata": {},
   "outputs": [],
   "source": []
  }
 ],
 "metadata": {
  "kernelspec": {
   "display_name": "Python 3",
   "language": "python",
   "name": "python3"
  },
  "language_info": {
   "codemirror_mode": {
    "name": "ipython",
    "version": 3
   },
   "file_extension": ".py",
   "mimetype": "text/x-python",
   "name": "python",
   "nbconvert_exporter": "python",
   "pygments_lexer": "ipython3",
   "version": "3.8.5"
  }
 },
 "nbformat": 4,
 "nbformat_minor": 4
}
