{
 "cells": [
  {
   "cell_type": "code",
   "execution_count": 28,
   "metadata": {},
   "outputs": [],
   "source": [
    "from ipynb.fs.defs.bbc_gpt2_all import gpt2\n",
    "from ipynb.fs.defs.bbc_bert1_all import bert\n",
    "from ipynb.fs.defs.bbc_bart1_all import bart"
   ]
  },
  {
   "cell_type": "code",
   "execution_count": 29,
   "metadata": {},
   "outputs": [],
   "source": [
    "import rouge\n",
    "import nltk"
   ]
  },
  {
   "cell_type": "code",
   "execution_count": 30,
   "metadata": {},
   "outputs": [],
   "source": [
    "def generate(model,model_name,folder,start,end):\n",
    "    final=\"\"\n",
    "    for i in range(start,end+1):\n",
    "        t1 = open(\"/Users/shreyabanerjee/Summarizer/multiple_docs/news/\"+folder+\"/\"+\"text\"+str(i),\"r\")\n",
    "        #print(i)\n",
    "        final=final+t1.read()\n",
    "    summary=model(final)\n",
    "    t2=open(\"/Users/shreyabanerjee/Summarizer/multiple_docs/summary/\"+folder+\"/\"+model_name+\"/\"+\"summary.txt\",\"w\")\n",
    "    t2.write(summary)\n",
    "    return summary"
   ]
  },
  {
   "cell_type": "code",
   "execution_count": 31,
   "metadata": {},
   "outputs": [
    {
     "name": "stderr",
     "output_type": "stream",
     "text": [
      "Some weights of GPT2Model were not initialized from the model checkpoint at gpt2-medium and are newly initialized: ['h.0.attn.masked_bias', 'h.1.attn.masked_bias', 'h.2.attn.masked_bias', 'h.3.attn.masked_bias', 'h.4.attn.masked_bias', 'h.5.attn.masked_bias', 'h.6.attn.masked_bias', 'h.7.attn.masked_bias', 'h.8.attn.masked_bias', 'h.9.attn.masked_bias', 'h.10.attn.masked_bias', 'h.11.attn.masked_bias', 'h.12.attn.masked_bias', 'h.13.attn.masked_bias', 'h.14.attn.masked_bias', 'h.15.attn.masked_bias', 'h.16.attn.masked_bias', 'h.17.attn.masked_bias', 'h.18.attn.masked_bias', 'h.19.attn.masked_bias', 'h.20.attn.masked_bias', 'h.21.attn.masked_bias', 'h.22.attn.masked_bias', 'h.23.attn.masked_bias']\n",
      "You should probably TRAIN this model on a down-stream task to be able to use it for predictions and inference.\n"
     ]
    }
   ],
   "source": [
    "gpt2_summary=[generate(gpt2,\"gpt2\",\"Covid\",1,2)]\n",
    "bart_summary=[generate(bart,\"bart\",\"Covid\",1,2)]\n",
    "bert_summary=[generate(bert,\"bert\",\"Covid\",1,2)]"
   ]
  },
  {
   "cell_type": "code",
   "execution_count": 32,
   "metadata": {},
   "outputs": [],
   "source": [
    "m1 = open(\"/Users/shreyabanerjee/Summarizer/multiple_docs/human_written_summary/Covid/summary.txt\",\"r\")\n",
    "my_summary=[m1.read()]"
   ]
  },
  {
   "cell_type": "code",
   "execution_count": 33,
   "metadata": {},
   "outputs": [
    {
     "name": "stdout",
     "output_type": "stream",
     "text": [
      "Human written summary\n",
      "Every day of the last week, for the first time since mid-January, Maharashtra has reported more than 3,000 new cases of coronavirus infections.Nearly 60 per cent of the new infections in the second week of February were reported from Pune, Mumbai, Nagpur, Thane and Amravati. Reasons for this could be reopening of local trains for general public in Mumbai and recently-held gram panchayat elections in Vidarbha and Marathwada. Marriage functions and other family events, could also be contributing. State health minister Rajesh Tope agreed, and said people not following physical distancing norms, or avoiding face masks, would be heavily penalised. Interestingly, there has been a drop in the number of samples being tested. Contact tracing efforts have also become weaker. “It is not uncommon to see gatherings of 400-500 at marriages or other events these days. But from now on, the rule of not more than 50 invitees would be strictly enforced. Also, people would have to wear masks at these functions,” Dr Rahul Pandit, a member of the state’s Covid-19 task force, said. The Maharashtra government may impose a stricter lockdown in Yavatmal, Amravati and Akola cities of Vidarbha region of the state \"at any moment\" in view of the COVID-19 situation there, news agency PTI reported. It has made it mandatory for travellers to carry a Covid-negative report while entering the state. Similar travel restrictions are already in place for four states — Delhi, Rajasthan, Goa and Gujarat since November 23. As many as 29,071 beneficiaries, most of them frontline workers, received the first dose of COVID-19 vaccines in Maharashtra on Wednesday, while 7,065 health professionals were administered the second dose, the state government said.\n",
      "\n",
      "Gpt2 summary\n",
      "With the coronavirus number showing an increasing trend over the last two weeks, Maharashtra has reintroduced some restrictions on the assembly and movement of people. With 3,228 cases in that week (February 8-14), Pune had the highest number among these. But that does not explain the increase being witnessed in Vidarbha. For instance, the Tivsa tehsil in Amravati district is now showing 32.7 per cent positivity rate. This village has a total population of only 1,900. Awate suggested that marriage functions and other family events, that had to be postponed because of Covid-19 last year but are beginning to take place now, could also be contributing. “It is not uncommon to see gatherings of 400-500 at marriages or other events these days. But from now on, the rule of not more than 50 invitees would be strictly enforced. Also, people would have to wear masks at these functions,” Dr Rahul Pandit, a member of the state’s Covid-19 task force, said. Chief Minister Uddhav Thackeray and his deputy Ajit Pawar discussed the issue and the step is likely to be taken accordingly, according to the sources. The state govt has extended travel restrictions for those coming from Kerala, in the state. Among the districts, Amravati reported the highest rise in a day, from 82 cases on Tuesday to 230 cases on Wednesday.\n",
      "\n",
      "Bert summary\n",
      "With the coronavirus number showing an increasing trend over the last two weeks, Maharashtra has reintroduced some restrictions on the assembly and movement of people. With 3,228 cases in that week (February 8-14), Pune had the highest number among these. State surveillance officer Dr Pradeep Awate suggests the recently-held gram panchayat elections could also have played a role. That is one of the reasons why the restrictions on such gatherings have been brought back. “It is not uncommon to see gatherings of 400-500 at marriages or other events these days. But from now on, the rule of not more than 50 invitees would be strictly enforced. Also, people would have to wear masks at these functions,” Dr Rahul Pandit, a member of the state’s Covid-19 task force, said. In fact, like in the United States, there is a need to start using double-layered masks,” he said. The Maharashtra government may impose a stricter lockdown in Yavatmal, Amravati and Akola cities of Vidarbha region of the state \"at any moment\" in view of the COVID-19 situation there, news agency PTI reported. Maharashtra has been witnessing a surge in coronavirus cases. It has made it mandatory for travellers to carry a Covid-negative report while entering the state.\n",
      "\n",
      "Bart summary\n",
      "For the first time since mid-January, Maharashtra has reported more than 3,000 new cases of Covid-19 infections. Maharashtra has reintroduced some restrictions on the assembly and movement of people. The state government has warned that it could even bring back the lockdown if it was felt necessary. Nearly 60 per cent of the new infections in the second week of February were reported from Pune, Mumbai, Nagpur, Thane and Amravati. The spike seen in the last two weeks is a reversal of a declining trend that seemed to have become permanent in the state. The number of cases has dropped to less than the 140 million recommended in recent days, even though contact tracing efforts have also become weaker in the number of samples being tested for the disease. The last time the state reported 20,207 new cases was in the week ending this Sunday (February 14), compared to 17,672 in the previous week (February 1-7)\n",
      "\n"
     ]
    }
   ],
   "source": [
    "print(\"Human written summary\\n\"+my_summary[0]+\"\\n\")\n",
    "print(\"Gpt2 summary\\n\"+gpt2_summary[0]+\"\\n\")\n",
    "print(\"Bert summary\\n\"+bert_summary[0]+\"\\n\")\n",
    "print(\"Bart summary\\n\"+bart_summary[0]+\"\\n\")"
   ]
  },
  {
   "cell_type": "code",
   "execution_count": 34,
   "metadata": {},
   "outputs": [],
   "source": [
    "import sklearn.metrics as metric\n",
    "def get_score(all_hypothesis, all_references):\n",
    "    apply_avg = 'Avg'\n",
    "    evaluator = rouge.Rouge(metrics=['rouge-n', 'rouge-l', 'rouge-w'],\n",
    "                               max_n=4,\n",
    "                               limit_length=True,\n",
    "                               length_limit=100,\n",
    "                               length_limit_type='words',\n",
    "                               apply_avg=apply_avg,\n",
    "                               alpha=0.5, # Default F1_score\n",
    "                               weight_factor=1.2,\n",
    "                               stemming=True)\n",
    "    scores = evaluator.get_scores(all_hypothesis, all_references)\n",
    "    for key,value in scores.items():\n",
    "        print(key.upper()+'\\n')\n",
    "        print(\"F: \"+str(value['f'])+\"  R: \"+str(value['r'])+\"  P: \"+str(value['p'])+\"\\n\")\n",
    "    return scores"
   ]
  },
  {
   "cell_type": "code",
   "execution_count": 35,
   "metadata": {},
   "outputs": [
    {
     "name": "stdout",
     "output_type": "stream",
     "text": [
      "ROUGE-1\n",
      "\n",
      "F: 0.375  R: 0.375  P: 0.375\n",
      "\n",
      "ROUGE-2\n",
      "\n",
      "F: 0.08737864077669903  R: 0.08737864077669903  P: 0.08737864077669903\n",
      "\n",
      "ROUGE-3\n",
      "\n",
      "F: 0.029411764705882353  R: 0.029411764705882353  P: 0.029411764705882353\n",
      "\n",
      "ROUGE-4\n",
      "\n",
      "F: 0.019801980198019802  R: 0.019801980198019802  P: 0.019801980198019802\n",
      "\n",
      "ROUGE-L\n",
      "\n",
      "F: 0.26362603402756773  R: 0.26362603402756773  P: 0.26362603402756773\n",
      "\n",
      "ROUGE-W\n",
      "\n",
      "F: 0.07873432746224886  R: 0.054917058652875425  P: 0.13903173304376693\n",
      "\n",
      "{'rouge-1': {'f': 0.375, 'p': 0.375, 'r': 0.375}, 'rouge-2': {'f': 0.08737864077669903, 'p': 0.08737864077669903, 'r': 0.08737864077669903}, 'rouge-3': {'f': 0.029411764705882353, 'p': 0.029411764705882353, 'r': 0.029411764705882353}, 'rouge-4': {'f': 0.019801980198019802, 'p': 0.019801980198019802, 'r': 0.019801980198019802}, 'rouge-l': {'f': 0.26362603402756773, 'p': 0.26362603402756773, 'r': 0.26362603402756773}, 'rouge-w': {'f': 0.07873432746224886, 'p': 0.13903173304376693, 'r': 0.054917058652875425}}\n"
     ]
    }
   ],
   "source": [
    "print(get_score(bert_summary,my_summary))"
   ]
  },
  {
   "cell_type": "code",
   "execution_count": 36,
   "metadata": {},
   "outputs": [
    {
     "name": "stdout",
     "output_type": "stream",
     "text": [
      "ROUGE-1\n",
      "\n",
      "F: 0.5024154589371981  R: 0.5  P: 0.5048543689320388\n",
      "\n",
      "ROUGE-2\n",
      "\n",
      "F: 0.38048780487804873  R: 0.3786407766990291  P: 0.38235294117647056\n",
      "\n",
      "ROUGE-3\n",
      "\n",
      "F: 0.35467980295566504  R: 0.35294117647058826  P: 0.3564356435643564\n",
      "\n",
      "ROUGE-4\n",
      "\n",
      "F: 0.3383084577114428  R: 0.33663366336633666  P: 0.34\n",
      "\n",
      "ROUGE-L\n",
      "\n",
      "F: 0.4902613341900243  R: 0.48829556636775173  P: 0.4922429934635\n",
      "\n",
      "ROUGE-W\n",
      "\n",
      "F: 0.2066448891929225  R: 0.1437420333521476  P: 0.3674401134306584\n",
      "\n",
      "{'rouge-1': {'f': 0.5024154589371981, 'p': 0.5048543689320388, 'r': 0.5}, 'rouge-2': {'f': 0.38048780487804873, 'p': 0.38235294117647056, 'r': 0.3786407766990291}, 'rouge-3': {'f': 0.35467980295566504, 'p': 0.3564356435643564, 'r': 0.35294117647058826}, 'rouge-4': {'f': 0.3383084577114428, 'p': 0.34, 'r': 0.33663366336633666}, 'rouge-l': {'f': 0.4902613341900243, 'p': 0.4922429934635, 'r': 0.48829556636775173}, 'rouge-w': {'f': 0.2066448891929225, 'p': 0.3674401134306584, 'r': 0.1437420333521476}}\n"
     ]
    }
   ],
   "source": [
    "print(get_score(bart_summary,my_summary))"
   ]
  },
  {
   "cell_type": "code",
   "execution_count": 37,
   "metadata": {},
   "outputs": [
    {
     "name": "stdout",
     "output_type": "stream",
     "text": [
      "ROUGE-1\n",
      "\n",
      "F: 0.3540669856459331  R: 0.3557692307692308  P: 0.3523809523809524\n",
      "\n",
      "ROUGE-2\n",
      "\n",
      "F: 0.08695652173913045  R: 0.08737864077669903  P: 0.08653846153846154\n",
      "\n",
      "ROUGE-3\n",
      "\n",
      "F: 0.03902439024390244  R: 0.0392156862745098  P: 0.038834951456310676\n",
      "\n",
      "ROUGE-4\n",
      "\n",
      "F: 0.029556650246305417  R: 0.0297029702970297  P: 0.029411764705882353\n",
      "\n",
      "ROUGE-L\n",
      "\n",
      "F: 0.2625748910900313  R: 0.26362603402756773  P: 0.2615320972023661\n",
      "\n",
      "ROUGE-W\n",
      "\n",
      "F: 0.07917610353893967  R: 0.05537555387316975  P: 0.1388573239195547\n",
      "\n",
      "{'rouge-1': {'f': 0.3540669856459331, 'p': 0.3523809523809524, 'r': 0.3557692307692308}, 'rouge-2': {'f': 0.08695652173913045, 'p': 0.08653846153846154, 'r': 0.08737864077669903}, 'rouge-3': {'f': 0.03902439024390244, 'p': 0.038834951456310676, 'r': 0.0392156862745098}, 'rouge-4': {'f': 0.029556650246305417, 'p': 0.029411764705882353, 'r': 0.0297029702970297}, 'rouge-l': {'f': 0.2625748910900313, 'p': 0.2615320972023661, 'r': 0.26362603402756773}, 'rouge-w': {'f': 0.07917610353893967, 'p': 0.1388573239195547, 'r': 0.05537555387316975}}\n"
     ]
    }
   ],
   "source": [
    "print(get_score(gpt2_summary,my_summary))"
   ]
  },
  {
   "cell_type": "code",
   "execution_count": null,
   "metadata": {},
   "outputs": [],
   "source": []
  }
 ],
 "metadata": {
  "kernelspec": {
   "display_name": "Python 3",
   "language": "python",
   "name": "python3"
  },
  "language_info": {
   "codemirror_mode": {
    "name": "ipython",
    "version": 3
   },
   "file_extension": ".py",
   "mimetype": "text/x-python",
   "name": "python",
   "nbconvert_exporter": "python",
   "pygments_lexer": "ipython3",
   "version": "3.8.5"
  }
 },
 "nbformat": 4,
 "nbformat_minor": 4
}
