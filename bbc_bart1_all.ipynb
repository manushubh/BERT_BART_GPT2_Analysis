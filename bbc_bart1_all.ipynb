{
 "cells": [
  {
   "cell_type": "code",
   "execution_count": 1,
   "metadata": {},
   "outputs": [
    {
     "name": "stdout",
     "output_type": "stream",
     "text": [
      "\n",
      "\n",
      "***************************************************************\n",
      "Failed to import TensorFlow. Please note that TensorFlow is not installed by default when you install TFDS. This allow you to choose to install either `tf-nightly` or `tensorflow`. Please install the most recent version of TensorFlow, by following instructions at https://tensorflow.org/install.\n",
      "***************************************************************\n",
      "\n",
      "\n"
     ]
    },
    {
     "ename": "ModuleNotFoundError",
     "evalue": "No module named 'tensorflow'",
     "output_type": "error",
     "traceback": [
      "\u001b[1;31m---------------------------------------------------------------------------\u001b[0m",
      "\u001b[1;31mModuleNotFoundError\u001b[0m                       Traceback (most recent call last)",
      "\u001b[1;32m<ipython-input-1-d1aab55a6b0b>\u001b[0m in \u001b[0;36m<module>\u001b[1;34m\u001b[0m\n\u001b[1;32m----> 1\u001b[1;33m \u001b[1;32mimport\u001b[0m \u001b[0mtensorflow_datasets\u001b[0m \u001b[1;32mas\u001b[0m \u001b[0mtfds\u001b[0m\u001b[1;33m\u001b[0m\u001b[1;33m\u001b[0m\u001b[0m\n\u001b[0m\u001b[0;32m      2\u001b[0m \u001b[1;32mimport\u001b[0m \u001b[0mmatplotlib\u001b[0m\u001b[1;33m.\u001b[0m\u001b[0mpyplot\u001b[0m \u001b[1;32mas\u001b[0m \u001b[0mplt\u001b[0m\u001b[1;33m\u001b[0m\u001b[1;33m\u001b[0m\u001b[0m\n\u001b[0;32m      3\u001b[0m \u001b[1;32mimport\u001b[0m \u001b[0mnumpy\u001b[0m \u001b[1;32mas\u001b[0m \u001b[0mnp\u001b[0m\u001b[1;33m\u001b[0m\u001b[1;33m\u001b[0m\u001b[0m\n\u001b[0;32m      4\u001b[0m \u001b[1;32mimport\u001b[0m \u001b[0mtensorflow\u001b[0m \u001b[1;32mas\u001b[0m \u001b[0mtf\u001b[0m\u001b[1;33m\u001b[0m\u001b[1;33m\u001b[0m\u001b[0m\n",
      "\u001b[1;32mc:\\users\\manoj\\appdata\\local\\programs\\python\\python38-32\\lib\\site-packages\\tensorflow_datasets\\__init__.py\u001b[0m in \u001b[0;36m<module>\u001b[1;34m\u001b[0m\n\u001b[0;32m     49\u001b[0m   \u001b[1;32mfrom\u001b[0m \u001b[0mtensorflow_datasets\u001b[0m\u001b[1;33m.\u001b[0m\u001b[0m__init__py2\u001b[0m \u001b[1;32mimport\u001b[0m \u001b[1;33m*\u001b[0m\u001b[1;33m\u001b[0m\u001b[1;33m\u001b[0m\u001b[0m\n\u001b[0;32m     50\u001b[0m \u001b[1;32melse\u001b[0m\u001b[1;33m:\u001b[0m\u001b[1;33m\u001b[0m\u001b[1;33m\u001b[0m\u001b[0m\n\u001b[1;32m---> 51\u001b[1;33m   \u001b[1;32mfrom\u001b[0m \u001b[0mtensorflow_datasets\u001b[0m \u001b[1;32mimport\u001b[0m \u001b[0m__init__py3\u001b[0m \u001b[1;32mas\u001b[0m \u001b[0mapi\u001b[0m\u001b[1;33m\u001b[0m\u001b[1;33m\u001b[0m\u001b[0m\n\u001b[0m\u001b[0;32m     52\u001b[0m   \u001b[1;32mfrom\u001b[0m \u001b[0mtensorflow_datasets\u001b[0m\u001b[1;33m.\u001b[0m\u001b[0m__init__py3\u001b[0m \u001b[1;32mimport\u001b[0m \u001b[1;33m*\u001b[0m\u001b[1;33m\u001b[0m\u001b[1;33m\u001b[0m\u001b[0m\n\u001b[0;32m     53\u001b[0m \u001b[1;33m\u001b[0m\u001b[0m\n",
      "\u001b[1;32mc:\\users\\manoj\\appdata\\local\\programs\\python\\python38-32\\lib\\site-packages\\tensorflow_datasets\\__init__py3.py\u001b[0m in \u001b[0;36m<module>\u001b[1;34m\u001b[0m\n\u001b[0;32m     41\u001b[0m \u001b[1;31m# needs to happen before anything else, since the imports below will try to\u001b[0m\u001b[1;33m\u001b[0m\u001b[1;33m\u001b[0m\u001b[1;33m\u001b[0m\u001b[0m\n\u001b[0;32m     42\u001b[0m \u001b[1;31m# import tensorflow, too.\u001b[0m\u001b[1;33m\u001b[0m\u001b[1;33m\u001b[0m\u001b[1;33m\u001b[0m\u001b[0m\n\u001b[1;32m---> 43\u001b[1;33m \u001b[1;32mfrom\u001b[0m \u001b[0mtensorflow_datasets\u001b[0m\u001b[1;33m.\u001b[0m\u001b[0mcore\u001b[0m \u001b[1;32mimport\u001b[0m \u001b[0mtf_compat\u001b[0m\u001b[1;33m\u001b[0m\u001b[1;33m\u001b[0m\u001b[0m\n\u001b[0m\u001b[0;32m     44\u001b[0m \u001b[0mtf_compat\u001b[0m\u001b[1;33m.\u001b[0m\u001b[0mensure_tf_install\u001b[0m\u001b[1;33m(\u001b[0m\u001b[1;33m)\u001b[0m\u001b[1;33m\u001b[0m\u001b[1;33m\u001b[0m\u001b[0m\n\u001b[0;32m     45\u001b[0m \u001b[1;33m\u001b[0m\u001b[0m\n",
      "\u001b[1;32mc:\\users\\manoj\\appdata\\local\\programs\\python\\python38-32\\lib\\site-packages\\tensorflow_datasets\\core\\__init__.py\u001b[0m in \u001b[0;36m<module>\u001b[1;34m\u001b[0m\n\u001b[0;32m     19\u001b[0m \u001b[1;31m# import tensorflow, too.\u001b[0m\u001b[1;33m\u001b[0m\u001b[1;33m\u001b[0m\u001b[1;33m\u001b[0m\u001b[0m\n\u001b[0;32m     20\u001b[0m \u001b[1;32mfrom\u001b[0m \u001b[0mtensorflow_datasets\u001b[0m\u001b[1;33m.\u001b[0m\u001b[0mcore\u001b[0m \u001b[1;32mimport\u001b[0m \u001b[0mtf_compat\u001b[0m\u001b[1;33m\u001b[0m\u001b[1;33m\u001b[0m\u001b[0m\n\u001b[1;32m---> 21\u001b[1;33m \u001b[0mtf_compat\u001b[0m\u001b[1;33m.\u001b[0m\u001b[0mensure_tf_install\u001b[0m\u001b[1;33m(\u001b[0m\u001b[1;33m)\u001b[0m\u001b[1;33m\u001b[0m\u001b[1;33m\u001b[0m\u001b[0m\n\u001b[0m\u001b[0;32m     22\u001b[0m \u001b[1;33m\u001b[0m\u001b[0m\n\u001b[0;32m     23\u001b[0m \u001b[1;31m# pylint:disable=g-import-not-at-top\u001b[0m\u001b[1;33m\u001b[0m\u001b[1;33m\u001b[0m\u001b[1;33m\u001b[0m\u001b[0m\n",
      "\u001b[1;32mc:\\users\\manoj\\appdata\\local\\programs\\python\\python38-32\\lib\\site-packages\\tensorflow_datasets\\core\\tf_compat.py\u001b[0m in \u001b[0;36mensure_tf_install\u001b[1;34m()\u001b[0m\n\u001b[0;32m     45\u001b[0m \u001b[1;33m\u001b[0m\u001b[0m\n\u001b[0;32m     46\u001b[0m   \u001b[1;32mtry\u001b[0m\u001b[1;33m:\u001b[0m\u001b[1;33m\u001b[0m\u001b[1;33m\u001b[0m\u001b[0m\n\u001b[1;32m---> 47\u001b[1;33m     \u001b[1;32mimport\u001b[0m \u001b[0mtensorflow\u001b[0m\u001b[1;33m.\u001b[0m\u001b[0mcompat\u001b[0m\u001b[1;33m.\u001b[0m\u001b[0mv2\u001b[0m \u001b[1;32mas\u001b[0m \u001b[0mtf\u001b[0m  \u001b[1;31m# pylint: disable=import-outside-toplevel\u001b[0m\u001b[1;33m\u001b[0m\u001b[1;33m\u001b[0m\u001b[0m\n\u001b[0m\u001b[0;32m     48\u001b[0m   \u001b[1;32mexcept\u001b[0m \u001b[0mImportError\u001b[0m\u001b[1;33m:\u001b[0m\u001b[1;33m\u001b[0m\u001b[1;33m\u001b[0m\u001b[0m\n\u001b[0;32m     49\u001b[0m     \u001b[1;31m# Print more informative error message, then reraise.\u001b[0m\u001b[1;33m\u001b[0m\u001b[1;33m\u001b[0m\u001b[1;33m\u001b[0m\u001b[0m\n",
      "\u001b[1;31mModuleNotFoundError\u001b[0m: No module named 'tensorflow'"
     ]
    }
   ],
   "source": [
    "import tensorflow_datasets as tfds\n",
    "import matplotlib.pyplot as plt\n",
    "import numpy as np\n",
    "import tensorflow as tf"
   ]
  },
  {
   "cell_type": "code",
   "execution_count": 2,
   "metadata": {},
   "outputs": [
    {
     "name": "stdout",
     "output_type": "stream",
     "text": [
      "Requirement already satisfied: pip in c:\\users\\manoj\\appdata\\local\\programs\\python\\python38-32\\lib\\site-packages (21.0.1)\n",
      "Collecting pip\n",
      "  Using cached pip-21.1.1-py3-none-any.whl (1.5 MB)\n",
      "Installing collected packages: pip\n",
      "  Attempting uninstall: pip\n",
      "    Found existing installation: pip 21.0.1\n",
      "    Uninstalling pip-21.0.1:\n",
      "      Successfully uninstalled pip-21.0.1\n",
      "Successfully installed pip-21.1.1\n",
      "Note: you may need to restart the kernel to use updated packages.\n"
     ]
    }
   ],
   "source": [
    "pip install --upgrade pip"
   ]
  },
  {
   "cell_type": "code",
   "execution_count": 2,
   "metadata": {},
   "outputs": [],
   "source": [
    "import rouge\n",
    "import nltk"
   ]
  },
  {
   "cell_type": "code",
   "execution_count": 3,
   "metadata": {},
   "outputs": [],
   "source": [
    "import os\n",
    "#from gtts import gTTS \n",
    "from pathlib import Path\n",
    "import appdirs\n",
    "import gdown\n",
    "import torch\n",
    "import logging\n",
    "from transformers import BartTokenizer, BartForConditionalGeneration, BartConfig\n",
    "from summarizer import Summarizer\n",
    "#from summarizer import TransformerSummarizer"
   ]
  },
  {
   "cell_type": "code",
   "execution_count": 4,
   "metadata": {},
   "outputs": [],
   "source": [
    "class BartSumSummarizer():\n",
    "    def __init__(self, state_dict_key='model', pretrained=\"facebook/bart-large-cnn\"):\n",
    "        bart = BartForConditionalGeneration.from_pretrained(pretrained)\n",
    "        tokenizer = BartTokenizer.from_pretrained(pretrained)\n",
    "        self.tokenizer = tokenizer\n",
    "        self.bart = bart\n",
    "\n",
    "    def summarize_string(self, source_line, min_length, max_length):\n",
    "        source_line = [source_line]\n",
    "        inputs = self.tokenizer.batch_encode_plus(source_line, truncation=True, return_tensors='pt')\n",
    "        # Generate Summary\n",
    "        summary_ids = self.bart.generate(inputs['input_ids'], attention_mask=inputs['attention_mask'], num_beams=4, min_length=min_length, max_length=max_length)\n",
    "        return [self.tokenizer.decode(g, skip_special_tokens=True, clean_up_tokenization_spaces=False) for g in summary_ids][0]\n",
    "       "
   ]
  },
  {
   "cell_type": "code",
   "execution_count": 5,
   "metadata": {},
   "outputs": [],
   "source": [
    "def bart(contents):\n",
    "    document = str(contents)\n",
    "    doc_length = len(document.split())\n",
    "    min_length = int(doc_length/6)\n",
    "    max_length = min_length+400\n",
    "    transcript_summarized = BartSumSummarizer().summarize_string(document, min_length=min_length, max_length=max_length)\n",
    "    return transcript_summarized\n"
   ]
  },
  {
   "cell_type": "code",
   "execution_count": 6,
   "metadata": {},
   "outputs": [],
   "source": [
    "import sklearn.metrics as metric\n",
    "def get_score(all_hypothesis, all_references):\n",
    "    apply_avg = 'Avg'\n",
    "    evaluator = rouge.Rouge(metrics=['rouge-n', 'rouge-l', 'rouge-w'],\n",
    "                               max_n=4,\n",
    "                               limit_length=True,\n",
    "                               length_limit=100,\n",
    "                               length_limit_type='words',\n",
    "                               apply_avg=apply_avg,\n",
    "                               alpha=0.5, # Default F1_score\n",
    "                               weight_factor=1.2,\n",
    "                               stemming=True)\n",
    "    scores = evaluator.get_scores(all_hypothesis, all_references)\n",
    "    #print(scores)\n",
    "    for key,value in scores.items():\n",
    "        print(key.upper()+'\\n')\n",
    "        print(\"F: \"+str(value['f'])+\"  R: \"+str(value['r'])+\"  P: \"+str(value['p'])+\"\\n\")\n",
    "    #print(scores)"
   ]
  },
  {
   "cell_type": "code",
   "execution_count": 7,
   "metadata": {},
   "outputs": [],
   "source": [
    "def get_summaries(model,folder,start,end):\n",
    "    all_hypothesis = []\n",
    "    all_references = []\n",
    "    for i in range(start,end):\n",
    "          print(i)\n",
    "          num=str(i)\n",
    "          if(len(num)==1):\n",
    "                num='0'+'0'+num\n",
    "          elif(len(num)==2):\n",
    "                num='0'+num\n",
    "          t = open(\"/Users/shreyabanerjee/Summarizer/BBC News Summary/News Articles/\"+folder+\"/\"+num+\".txt\", \"r\")\n",
    "          text=t.read()\n",
    "          l= open(\"/Users/shreyabanerjee/Summarizer/BBC News Summary/Summaries/\"+folder+\"/\"+num+\".txt\", \"r\")\n",
    "          label=l.read()\n",
    "          if(label!=''):\n",
    "              summary=model(text)    #replace bart function name with bert or gpt2 for other models\n",
    "              #print(\"Text\\n\",text,'\\n\\nSummary\\n',label,'\\n\\n My Summary\\n',summary)\n",
    "              all_hypothesis.append(summary)\n",
    "              final= open(\"/Users/shreyabanerjee/Summarizer/BBC News Summary/Bart_Summaries/\"+folder+\"/\"+num+\".txt\", \"w\")\n",
    "              final.write(summary)\n",
    "              all_references.append(label)\n",
    "    return all_hypothesis,all_references"
   ]
  },
  {
   "cell_type": "code",
   "execution_count": 9,
   "metadata": {},
   "outputs": [
    {
     "name": "stdout",
     "output_type": "stream",
     "text": [
      "1\n",
      "2\n",
      "3\n",
      "4\n",
      "5\n",
      "6\n",
      "7\n",
      "8\n",
      "9\n",
      "10\n",
      "1\n",
      "2\n",
      "3\n",
      "4\n",
      "5\n",
      "6\n",
      "7\n",
      "8\n",
      "9\n",
      "10\n",
      "1\n",
      "2\n",
      "3\n",
      "4\n",
      "5\n",
      "6\n",
      "7\n",
      "8\n",
      "9\n",
      "10\n",
      "1\n",
      "2\n",
      "3\n",
      "4\n",
      "5\n",
      "6\n",
      "7\n",
      "8\n",
      "9\n",
      "10\n",
      "1\n",
      "2\n",
      "3\n",
      "4\n",
      "5\n",
      "6\n",
      "7\n",
      "8\n",
      "9\n",
      "10\n"
     ]
    }
   ],
   "source": [
    "candidate_bart_business,reference_bart_business=get_summaries(bart,\"business\",1,11)\n",
    "candidate_bart_entertainment,reference_bart_entertainment=get_summaries(bart,\"entertainment\",1,11)\n",
    "candidate_bart_sport,reference_bart_sport=get_summaries(bart,\"sport\",1,11)\n",
    "candidate_bart_politics,reference_bart_politics=get_summaries(bart,\"politics\",1,11)\n",
    "candidate_bart_tech,reference_bart_tech=get_summaries(bart,\"tech\",1,11)"
   ]
  },
  {
   "cell_type": "code",
   "execution_count": 10,
   "metadata": {},
   "outputs": [
    {
     "name": "stdout",
     "output_type": "stream",
     "text": [
      "ROUGE-3\n",
      "\n",
      "F: 0.13481056170812977  R: 0.09542778578453896  P: 0.23848192164229895\n",
      "\n",
      "ROUGE-2\n",
      "\n",
      "F: 0.18157272890794093  R: 0.13000939501728198  P: 0.31094732242609574\n",
      "\n",
      "ROUGE-4\n",
      "\n",
      "F: 0.11246797860283722  R: 0.07891769198279433  P: 0.20400646459451877\n",
      "\n",
      "ROUGE-1\n",
      "\n",
      "F: 0.3489400836299487  R: 0.2527753419389789  P: 0.5785094805039693\n",
      "\n",
      "ROUGE-L\n",
      "\n",
      "F: 0.29035902009702647  R: 0.21800011864493687  P: 0.4438735875443678\n",
      "\n",
      "ROUGE-W\n",
      "\n",
      "F: 0.08923507641881458  R: 0.052341349593974164  P: 0.3154586097567964\n",
      "\n"
     ]
    }
   ],
   "source": [
    "get_score(candidate_bart_business,reference_bart_business)"
   ]
  },
  {
   "cell_type": "code",
   "execution_count": 11,
   "metadata": {},
   "outputs": [
    {
     "name": "stdout",
     "output_type": "stream",
     "text": [
      "ROUGE-3\n",
      "\n",
      "F: 0.24147125361652028  R: 0.1723056128540277  P: 0.4102501469166516\n",
      "\n",
      "ROUGE-2\n",
      "\n",
      "F: 0.2901664943094978  R: 0.20725853414913184  P: 0.49095324133925544\n",
      "\n",
      "ROUGE-4\n",
      "\n",
      "F: 0.21301873497927032  R: 0.15170678523178194  P: 0.3640671377500022\n",
      "\n",
      "ROUGE-1\n",
      "\n",
      "F: 0.417433333027388  R: 0.297893317226392  P: 0.706440172362444\n",
      "\n",
      "ROUGE-L\n",
      "\n",
      "F: 0.3977893331037378  R: 0.2964018262964262  P: 0.6102542554379169\n",
      "\n",
      "ROUGE-W\n",
      "\n",
      "F: 0.13086344455226348  R: 0.07667973172674641  P: 0.4539546020558009\n",
      "\n"
     ]
    }
   ],
   "source": [
    "get_score(candidate_bart_entertainment,reference_bart_entertainment)"
   ]
  },
  {
   "cell_type": "code",
   "execution_count": 12,
   "metadata": {},
   "outputs": [
    {
     "name": "stdout",
     "output_type": "stream",
     "text": [
      "ROUGE-3\n",
      "\n",
      "F: 0.20017228202945242  R: 0.15575624819047756  P: 0.2968338282389952\n",
      "\n",
      "ROUGE-2\n",
      "\n",
      "F: 0.24383838696635599  R: 0.1890767884587325  P: 0.36310636570007665\n",
      "\n",
      "ROUGE-4\n",
      "\n",
      "F: 0.17343394487906322  R: 0.1356425901114463  P: 0.255026255785333\n",
      "\n",
      "ROUGE-1\n",
      "\n",
      "F: 0.39257503049039033  R: 0.3018724200219043  P: 0.5968210702368751\n",
      "\n",
      "ROUGE-L\n",
      "\n",
      "F: 0.32591249979274617  R: 0.2587641204793757  P: 0.45975283481395524\n",
      "\n",
      "ROUGE-W\n",
      "\n",
      "F: 0.11332317210685186  R: 0.07005295172080739  P: 0.3305949649157859\n",
      "\n"
     ]
    }
   ],
   "source": [
    "get_score(candidate_bart_sport,reference_bart_sport)"
   ]
  },
  {
   "cell_type": "code",
   "execution_count": 13,
   "metadata": {},
   "outputs": [
    {
     "name": "stdout",
     "output_type": "stream",
     "text": [
      "ROUGE-3\n",
      "\n",
      "F: 0.13999472050956024  R: 0.10925258964605752  P: 0.2011250006281366\n",
      "\n",
      "ROUGE-2\n",
      "\n",
      "F: 0.18706842446820973  R: 0.14805294371446562  P: 0.26242297721934665\n",
      "\n",
      "ROUGE-4\n",
      "\n",
      "F: 0.12172876708958924  R: 0.09438221894483656  P: 0.17725442474187095\n",
      "\n",
      "ROUGE-1\n",
      "\n",
      "F: 0.3771723059886203  R: 0.30527254628669726  P: 0.5088674335490557\n",
      "\n",
      "ROUGE-L\n",
      "\n",
      "F: 0.3031647915665693  R: 0.25154968969081565  P: 0.3900979545518714\n",
      "\n",
      "ROUGE-W\n",
      "\n",
      "F: 0.09614347704592467  R: 0.05954503548934176  P: 0.26021890838816847\n",
      "\n"
     ]
    }
   ],
   "source": [
    "get_score(candidate_bart_politics,reference_bart_politics)"
   ]
  },
  {
   "cell_type": "code",
   "execution_count": 15,
   "metadata": {},
   "outputs": [
    {
     "name": "stdout",
     "output_type": "stream",
     "text": [
      "ROUGE-3\n",
      "\n",
      "F: 0.1484366978693647  R: 0.1317316574180214  P: 0.17795548020482865\n",
      "\n",
      "ROUGE-2\n",
      "\n",
      "F: 0.20380429463166036  R: 0.17880245484882856  P: 0.24950662492568704\n",
      "\n",
      "ROUGE-4\n",
      "\n",
      "F: 0.12896842730814756  R: 0.1148476612207453  P: 0.15370541958807588\n",
      "\n",
      "ROUGE-1\n",
      "\n",
      "F: 0.42477827046408995  R: 0.3704440116468289  P: 0.5220098516106784\n",
      "\n",
      "ROUGE-L\n",
      "\n",
      "F: 0.3327439610164262  R: 0.2952966268218698  P: 0.39368909719374434\n",
      "\n",
      "ROUGE-W\n",
      "\n",
      "F: 0.11672382241707073  R: 0.07597772016787252  P: 0.2668707951505146\n",
      "\n"
     ]
    }
   ],
   "source": [
    "get_score(candidate_bart_tech,reference_bart_tech)"
   ]
  },
  {
   "cell_type": "code",
   "execution_count": null,
   "metadata": {},
   "outputs": [],
   "source": []
  }
 ],
 "metadata": {
  "kernelspec": {
   "display_name": "Python 3",
   "language": "python",
   "name": "python3"
  },
  "language_info": {
   "codemirror_mode": {
    "name": "ipython",
    "version": 3
   },
   "file_extension": ".py",
   "mimetype": "text/x-python",
   "name": "python",
   "nbconvert_exporter": "python",
   "pygments_lexer": "ipython3",
   "version": "3.8.2"
  }
 },
 "nbformat": 4,
 "nbformat_minor": 4
}
