{
 "cells": [
  {
   "cell_type": "code",
   "execution_count": 1,
   "metadata": {},
   "outputs": [
    {
     "data": {
      "text/plain": [
       "['C:\\\\Users\\\\Manoj\\\\Desktop\\\\Major Project\\\\summary_generator-main',\n",
       " 'C:\\\\Users\\\\Manoj\\\\anaconda3\\\\python37.zip',\n",
       " 'C:\\\\Users\\\\Manoj\\\\anaconda3\\\\DLLs',\n",
       " 'C:\\\\Users\\\\Manoj\\\\anaconda3\\\\lib',\n",
       " 'C:\\\\Users\\\\Manoj\\\\anaconda3',\n",
       " '',\n",
       " 'C:\\\\Users\\\\Manoj\\\\anaconda3\\\\lib\\\\site-packages',\n",
       " 'C:\\\\Users\\\\Manoj\\\\anaconda3\\\\lib\\\\site-packages\\\\win32',\n",
       " 'C:\\\\Users\\\\Manoj\\\\anaconda3\\\\lib\\\\site-packages\\\\win32\\\\lib',\n",
       " 'C:\\\\Users\\\\Manoj\\\\anaconda3\\\\lib\\\\site-packages\\\\Pythonwin',\n",
       " 'C:\\\\Users\\\\Manoj\\\\anaconda3\\\\lib\\\\site-packages\\\\IPython\\\\extensions',\n",
       " 'C:\\\\Users\\\\Manoj\\\\.ipython']"
      ]
     },
     "execution_count": 1,
     "metadata": {},
     "output_type": "execute_result"
    }
   ],
   "source": [
    "#pip install import_ipynb\n",
    "import sys\n",
    "sys.path\n"
   ]
  },
  {
   "cell_type": "code",
   "execution_count": 2,
   "metadata": {},
   "outputs": [
    {
     "ename": "ModuleNotFoundError",
     "evalue": "No module named 'ipynb'",
     "output_type": "error",
     "traceback": [
      "\u001b[1;31m---------------------------------------------------------------------------\u001b[0m",
      "\u001b[1;31mModuleNotFoundError\u001b[0m                       Traceback (most recent call last)",
      "\u001b[1;32m<ipython-input-2-40e5e31ea689>\u001b[0m in \u001b[0;36m<module>\u001b[1;34m\u001b[0m\n\u001b[0;32m      1\u001b[0m \u001b[1;32mimport\u001b[0m \u001b[0mimport_ipynb\u001b[0m\u001b[1;33m\u001b[0m\u001b[1;33m\u001b[0m\u001b[0m\n\u001b[1;32m----> 2\u001b[1;33m \u001b[1;32mfrom\u001b[0m \u001b[0mipynb\u001b[0m\u001b[1;33m.\u001b[0m\u001b[0mfs\u001b[0m\u001b[1;33m.\u001b[0m\u001b[0mdefs\u001b[0m\u001b[1;33m.\u001b[0m\u001b[0mbbc_gpt2_all\u001b[0m \u001b[1;32mimport\u001b[0m \u001b[0mgpt2\u001b[0m\u001b[1;33m\u001b[0m\u001b[1;33m\u001b[0m\u001b[0m\n\u001b[0m\u001b[0;32m      3\u001b[0m \u001b[1;32mfrom\u001b[0m \u001b[0mipynb\u001b[0m\u001b[1;33m.\u001b[0m\u001b[0mfs\u001b[0m\u001b[1;33m.\u001b[0m\u001b[0mdefs\u001b[0m\u001b[1;33m.\u001b[0m\u001b[0mbbc_bert1_all\u001b[0m \u001b[1;32mimport\u001b[0m \u001b[0mbert\u001b[0m\u001b[1;33m\u001b[0m\u001b[1;33m\u001b[0m\u001b[0m\n\u001b[0;32m      4\u001b[0m \u001b[1;32mfrom\u001b[0m \u001b[0mipynb\u001b[0m\u001b[1;33m.\u001b[0m\u001b[0mfs\u001b[0m\u001b[1;33m.\u001b[0m\u001b[0mdefs\u001b[0m\u001b[1;33m.\u001b[0m\u001b[0mbbc_bart1_all\u001b[0m \u001b[1;32mimport\u001b[0m \u001b[0mbart\u001b[0m\u001b[1;33m\u001b[0m\u001b[1;33m\u001b[0m\u001b[0m\n\u001b[0;32m      5\u001b[0m \u001b[1;32mfrom\u001b[0m \u001b[0mipynb\u001b[0m\u001b[1;33m.\u001b[0m\u001b[0mfs\u001b[0m\u001b[1;33m.\u001b[0m\u001b[0mdefs\u001b[0m\u001b[1;33m.\u001b[0m\u001b[0mmultiple\u001b[0m \u001b[1;32mimport\u001b[0m \u001b[0mcosine_similarity\u001b[0m\u001b[1;33m\u001b[0m\u001b[1;33m\u001b[0m\u001b[0m\n",
      "\u001b[1;31mModuleNotFoundError\u001b[0m: No module named 'ipynb'"
     ]
    }
   ],
   "source": [
    "import import_ipynb\n",
    "from ipynb.fs.defs.bbc_gpt2_all import gpt2\n",
    "from ipynb.fs.defs.bbc_bert1_all import bert\n",
    "from ipynb.fs.defs.bbc_bart1_all import bart\n",
    "from ipynb.fs.defs.multiple import cosine_similarity\n",
    "from ipynb.fs.defs.multiple import jaccard_similarity\n",
    "from ipynb.fs.defs.multiple import get_processed_text\n",
    "from ipynb.fs.defs.speech_to_text import get_text\n",
    "from ipynb.fs.defs.text_to_speech import convert_to_audio"
   ]
  },
  {
   "cell_type": "code",
   "execution_count": 5,
   "metadata": {},
   "outputs": [],
   "source": [
    "path=\"/Users/shreyabanerjee/Summarizer/multiple_docs/news/Topic2\"\n",
    "path_audio='/Users/shreyabanerjee/Summarizer/Audio/Input/audio5.mp3'"
   ]
  },
  {
   "cell_type": "code",
   "execution_count": null,
   "metadata": {},
   "outputs": [],
   "source": [
    "\n"
   ]
  },
  {
   "cell_type": "code",
   "execution_count": null,
   "metadata": {},
   "outputs": [],
   "source": []
  },
  {
   "cell_type": "code",
   "execution_count": 6,
   "metadata": {},
   "outputs": [],
   "source": [
    "def summarize(path,input_type,model_type,output_file_name):\n",
    "    if(input_type==\"audio\"):\n",
    "        text=get_text(path)\n",
    "        #print(text)\n",
    "    elif(input_type==\"multiple_text_documents\"):\n",
    "        text=get_processed_text(path,cosine_similarity)\n",
    "    else:\n",
    "        print(\"Input type should be audio or multiple_text_documents\")\n",
    "        return\n",
    "    if(model_type==\"BERT\"):\n",
    "        print(\"\\n Summarizing using BERT model\")\n",
    "        my_summary= bert(text)\n",
    "    elif(model_type==\"BART\"):\n",
    "        print(\"\\n Summarizing using BART model\")\n",
    "        my_summary= bart(text)\n",
    "    elif(model_type==\"GPT2\"):\n",
    "        print(\"\\n Summarizing using GPT2 model\")\n",
    "        my_summary= gpt2(text)\n",
    "    else:\n",
    "        print(\"Model type should only be BERT, BART or GPT2\")\n",
    "        return \"Give proper model name\"\n",
    "    \n",
    "    convert_to_audio(my_summary,output_file_name)\n",
    "    return my_summary\n",
    "        "
   ]
  },
  {
   "cell_type": "code",
   "execution_count": 12,
   "metadata": {},
   "outputs": [
    {
     "name": "stdout",
     "output_type": "stream",
     "text": [
      "\n",
      " Summarizing using BART model\n",
      "A Delhi court awarded death penalty to Ariz Khan for the murder of police inspector Mohan Chand Sharma in the 2008 Batla House encounter case. Police sought death penalty for Ariz, allegedly associated with the terror outfit Indian Mujahideen, saying it was not just any killing but a murder of a law enforcement officer who was a defender of justice. Additional Sessions Judge Sandeep Yadav also imposed a total fine of Rs 11 lakh against Ariz in the case. The court said Rs 10 lakh should be immediately released to the family members of Sharma. Ariz’s lawyer M S Khan opposed capital punishment saying the incident was not premeditated.\n"
     ]
    }
   ],
   "source": [
    "final_summary_1=summarize(path,\"multiple_text_documents\",\"BART\",\"summary1\")\n",
    "print(final_summary_1)"
   ]
  },
  {
   "cell_type": "code",
   "execution_count": 5,
   "metadata": {},
   "outputs": [
    {
     "name": "stdout",
     "output_type": "stream",
     "text": [
      "A Delhi court Monday awarded death penalty to Ariz Khan for the murder of police inspector Mohan Chand Sharma in the 2008 Batla House encounter case. Inspector Sharma of the special cell was killed during the 2008 Batla House encounter in Jamia Nagar in south Delhi. The trial court had sentenced Indian Mujahideen terrorist Shahzad Ahmed in July 2013 to life imprisonment in connection with the case. His appeal against the verdict has been pending in the high court. Ariz Khan had fled from the spot and was declared proclaimed offender. He added that widespread concerns were raised after the incident regarding the safety of police officers and it instilled fear in the minds of the common people.dvocate M S Khan, appearing for Ariz, opposed the death penalty and said the incident was not premeditated.\n",
      "None\n"
     ]
    }
   ],
   "source": [
    "final_summary_2=summarize(path,\"multiple_text_documents\",\"BERT\",\"summary2\")\n",
    "print(final_summary_2)"
   ]
  },
  {
   "cell_type": "code",
   "execution_count": 6,
   "metadata": {},
   "outputs": [
    {
     "name": "stderr",
     "output_type": "stream",
     "text": [
      "Some weights of GPT2Model were not initialized from the model checkpoint at gpt2-medium and are newly initialized: ['h.0.attn.masked_bias', 'h.1.attn.masked_bias', 'h.2.attn.masked_bias', 'h.3.attn.masked_bias', 'h.4.attn.masked_bias', 'h.5.attn.masked_bias', 'h.6.attn.masked_bias', 'h.7.attn.masked_bias', 'h.8.attn.masked_bias', 'h.9.attn.masked_bias', 'h.10.attn.masked_bias', 'h.11.attn.masked_bias', 'h.12.attn.masked_bias', 'h.13.attn.masked_bias', 'h.14.attn.masked_bias', 'h.15.attn.masked_bias', 'h.16.attn.masked_bias', 'h.17.attn.masked_bias', 'h.18.attn.masked_bias', 'h.19.attn.masked_bias', 'h.20.attn.masked_bias', 'h.21.attn.masked_bias', 'h.22.attn.masked_bias', 'h.23.attn.masked_bias']\n",
      "You should probably TRAIN this model on a down-stream task to be able to use it for predictions and inference.\n"
     ]
    },
    {
     "name": "stdout",
     "output_type": "stream",
     "text": [
      "A Delhi court Monday awarded death penalty to Ariz Khan for the murder of police inspector Mohan Chand Sharma in the 2008 Batla House encounter case. The trial court had sentenced Indian Mujahideen terrorist Shahzad Ahmed in July 2013 to life imprisonment in connection with the case. Ariz Khan had fled from the spot and was declared proclaimed offender. Hence, I am referring the matter to Delhi Legal Services Authority for award of additional compensation,” the judge further said. “Ariz along with others was carrying deadly weapons which clearly suggests that they were ready to kill anybody in any eventuality. He added that widespread concerns were raised after the incident regarding the safety of police officers and it instilled fear in the minds of the common people.dvocate M S Khan, appearing for Ariz, opposed the death penalty and said the incident was not premeditated.\n"
     ]
    }
   ],
   "source": [
    "final_summary_3=summarize(path,\"multiple_text_documents\",\"GPT2\",\"summary3\")\n",
    "print(final_summary_3)"
   ]
  },
  {
   "cell_type": "code",
   "execution_count": 8,
   "metadata": {},
   "outputs": [
    {
     "name": "stdout",
     "output_type": "stream",
     "text": [
      "\n",
      " Summarizing using BART model\n",
      "I would ask that I was raised up and use the tentative time is expired to a members property thanks .thank you very much Mr president a .we've got me on Saturday I have to say that I didn't anticipate speaking today but the important safe bank of this issue is one in which I feel it's important for me to dress .this morning. I was not in this party for years ago I bought what I observed as a voter as a citizen of Illinois .four years ago old worth troubling evidence of the fact that that every vote was being counted .I think that it is unfortunate for years later that we continue to speed circumstances in which people who believe that they have the right to bolt who show up at the polls still continue to confront the port of problems.\n"
     ]
    }
   ],
   "source": [
    "final_summary_4=summarize(path_audio,\"audio\",\"BART\",\"summary4\")\n",
    "print(final_summary_4)"
   ]
  },
  {
   "cell_type": "code",
   "execution_count": 8,
   "metadata": {},
   "outputs": [
    {
     "name": "stdout",
     "output_type": "stream",
     "text": [
      "\n",
      " Summarizing using BART model\n",
      "Rosa Parks helped lay the foundation for a country that could begin to live up to its creative .for life and a brave actions reminded each and everyone of us and my personal responsibility .to stand up for what's rate .and the central truth of the American experience that our greatness as a nation derives from seemingly ordinary people doing extraordinary thanks .well the box life was a lesson in perseverance .as a child she grew up listening to the cook likes plan right by her house fearing that our house would be broken down .in a small town in Alabama she attended a one room school for African American children that only went through the second grade.when she moved to Montgomery Alabama to continue her schooling she was forced to clean classrooms after score to pay your tuition. Although she attended Alabama state teachers college Rosa Parks would like later make a living as a seems stress and housekeeper.\n"
     ]
    }
   ],
   "source": [
    "path_audio_2='/Users/shreyabanerjee/Summarizer/Audio/Input/audio6.mp3'\n",
    "final_summary_5=summarize(path_audio_2,\"audio\",\"BART\",\"summary5\")\n",
    "print(final_summary_5)"
   ]
  },
  {
   "cell_type": "code",
   "execution_count": null,
   "metadata": {},
   "outputs": [],
   "source": []
  }
 ],
 "metadata": {
  "kernelspec": {
   "display_name": "Python 3",
   "language": "python",
   "name": "python3"
  },
  "language_info": {
   "codemirror_mode": {
    "name": "ipython",
    "version": 3
   },
   "file_extension": ".py",
   "mimetype": "text/x-python",
   "name": "python",
   "nbconvert_exporter": "python",
   "pygments_lexer": "ipython3",
   "version": "3.7.6"
  }
 },
 "nbformat": 4,
 "nbformat_minor": 4
}
