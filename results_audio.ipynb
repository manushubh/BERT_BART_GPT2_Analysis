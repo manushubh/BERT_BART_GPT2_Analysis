{
 "cells": [
  {
   "cell_type": "code",
   "execution_count": null,
   "metadata": {},
   "outputs": [],
   "source": [
    "from ipynb.fs.defs.bbc_gpt2_all import gpt2\n",
    "from ipynb.fs.defs.bbc_bert1_all import bert\n",
    "from ipynb.fs.defs.bbc_bart1_all import bart\n",
    "from ipynb.fs.defs.multiple import cosine_similarity\n",
    "from ipynb.fs.defs.multiple import jaccard_similarity\n",
    "from ipynb.fs.defs.multiple import get_processed_text\n",
    "from ipynb.fs.defs.speech_to_text import get_text"
   ]
  },
  {
   "cell_type": "code",
   "execution_count": null,
   "metadata": {},
   "outputs": [],
   "source": [
    "import rogue"
   ]
  },
  {
   "cell_type": "code",
   "execution_count": null,
   "metadata": {},
   "outputs": [],
   "source": [
    "import sklearn.metrics as metric\n",
    "def get_score(all_hypothesis, all_references):\n",
    "    apply_avg = 'Avg'\n",
    "    evaluator = rouge.Rouge(metrics=['rouge-n', 'rouge-l', 'rouge-w'],\n",
    "                               max_n=4,\n",
    "                               limit_length=True,\n",
    "                               length_limit=100,\n",
    "                               length_limit_type='words',\n",
    "                               apply_avg=apply_avg,\n",
    "                               alpha=0.5, # Default F1_score\n",
    "                               weight_factor=1.2,\n",
    "                               stemming=True)\n",
    "    scores = evaluator.get_scores(all_hypothesis, all_references)\n",
    "    for key,value in scores.items():\n",
    "        print(key.upper()+'\\n')\n",
    "        print(\"F: \"+str(value['f'])+\"  R: \"+str(value['r'])+\"  P: \"+str(value['p'])+\"\\n\")\n",
    "    return scores"
   ]
  },
  {
   "cell_type": "code",
   "execution_count": null,
   "metadata": {},
   "outputs": [],
   "source": [
    "def evaluate_audio_summaries():\n",
    "    my_summaries=[]\n",
    "    bert_summaries=[]\n",
    "    bart_summaries=[]\n",
    "    gpt2_summaries=[]\n",
    "    for i in range(5,8):\n",
    "        \n",
    "        m1 = open(\"/Users/shreyabanerjee/Summarizer/Audio/human_written_summary/summary\"+str(i)+\".txt\",\"r\")\n",
    "        summary=m1.read()\n",
    "        my_summaries.append(summary)\n",
    "        print(\"\\nHuman written summary \\n\",summary)\n",
    "        \n",
    "        \n",
    "        f = open(\"/Users/shreyabanerjee/Summarizer/Audio/Text/output\"+str(i)+\".txt\",\"r\")\n",
    "        text=f.read()\n",
    "        \n",
    "        \n",
    "        print(\"\\nSummarizing audio\"+str(i)+\" using BERT model\\n\")\n",
    "        s1=bert(text)\n",
    "        bert_summaries.append(s1)\n",
    "        print(\"BERT summary\\n\",s1)\n",
    "        #print(\"Score for BERT summary\",get_score(bert_summary,my_summary))\n",
    "        \n",
    "        print(\"\\nSummarizing articles from Topic \"+str(i)+\" using BART model\\n\")\n",
    "        s2=bart(text)\n",
    "        bart_summaries.append(s2)\n",
    "        print(\"BART summary\\n\",s2)\n",
    "        #print(\"Score for BART summary\",get_score(bart_summary,my_summary)) \n",
    "        \n",
    "        print(\"\\nSummarizing articles from Topic \"+str(i)+\" using GPT2 model\\n\")\n",
    "        s3=gpt2(text)\n",
    "        gpt2_summaries.append(s3)\n",
    "        print(\"GPT2 summary\\n\",s3)\n",
    "        #print(\"Score for GPT2 summary\",get_score(gpt2_summary,my_summary)) \n",
    "        \n",
    "    print(\"Score for BERT summary\",get_score(bert_summaries,my_summaries))\n",
    "    print(\"Score for BART summary\",get_score(bart_summaries,my_summaries)) \n",
    "    print(\"Score for GPT2 summary\",get_score(gpt2_summaries,my_summaries)) "
   ]
  },
  {
   "cell_type": "code",
   "execution_count": null,
   "metadata": {},
   "outputs": [],
   "source": [
    "evaluate_audio_summaries()"
   ]
  }
 ],
 "metadata": {
  "kernelspec": {
   "display_name": "Python 3",
   "language": "python",
   "name": "python3"
  },
  "language_info": {
   "codemirror_mode": {
    "name": "ipython",
    "version": 3
   },
   "file_extension": ".py",
   "mimetype": "text/x-python",
   "name": "python",
   "nbconvert_exporter": "python",
   "pygments_lexer": "ipython3",
   "version": "3.8.5"
  }
 },
 "nbformat": 4,
 "nbformat_minor": 4
}
